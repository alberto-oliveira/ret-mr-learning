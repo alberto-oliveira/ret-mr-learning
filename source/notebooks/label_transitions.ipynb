{
 "cells": [
  {
   "cell_type": "code",
   "execution_count": null,
   "metadata": {},
   "outputs": [],
   "source": [
    "%load_ext autoreload\n",
    "%autoreload 2"
   ]
  },
  {
   "cell_type": "code",
   "execution_count": null,
   "metadata": {},
   "outputs": [],
   "source": [
    "from IPython.display import HTML\n",
    "HTML('''<script>\n",
    "code_show=true; \n",
    "function code_toggle() {\n",
    " if (code_show){\n",
    " $('div.input').hide();\n",
    " } else {\n",
    " $('div.input').show();\n",
    " }\n",
    " code_show = !code_show\n",
    "} \n",
    "$( document ).ready(code_toggle);\n",
    "</script>\n",
    "The raw code for this IPython notebook is by default hidden for easier reading.\n",
    "To toggle on/off the raw code, click <a href=\"javascript:code_toggle()\">here</a>.''')"
   ]
  },
  {
   "cell_type": "code",
   "execution_count": null,
   "metadata": {},
   "outputs": [],
   "source": [
    "import sys, os\n",
    "sys.path.append('../')"
   ]
  },
  {
   "cell_type": "code",
   "execution_count": null,
   "metadata": {},
   "outputs": [],
   "source": [
    "from rankutils.utilities import ndarray_bin_to_int\n",
    "from rankutils.drawing import colors_from_cmap"
   ]
  },
  {
   "cell_type": "code",
   "execution_count": null,
   "metadata": {},
   "outputs": [],
   "source": [
    "import numpy as np\n",
    "import matplotlib.pyplot as plt\n",
    "%matplotlib inline"
   ]
  },
  {
   "cell_type": "code",
   "execution_count": null,
   "metadata": {},
   "outputs": [],
   "source": []
  },
  {
   "cell_type": "code",
   "execution_count": null,
   "metadata": {},
   "outputs": [],
   "source": [
    "def plot_topk_labeling_freq(freq, t=0.0, ordered=False, ax=None, bar_kw={}, **kwargs):\n",
    "    \n",
    "    cmapname = kwargs.get('cmapname', 'Purples')\n",
    "    label = kwargs.get('label', None)\n",
    "    \n",
    "    if ordered:\n",
    "        x = np.argsort(freq)[::-1]\n",
    "        y = freq[x]\n",
    "    else:\n",
    "        x = np.arange(freq.size)\n",
    "        y = freq[x]\n",
    "        \n",
    "    valid_idx = np.flatnonzero(y >= t)\n",
    "    valid_x = x[valid_idx]\n",
    "    valid_y = y[valid_idx]\n",
    "    \n",
    "    c = colors_from_cmap(cmapname, valid_y, (0.5, 1.0))\n",
    "    \n",
    "    rects = ax.bar(np.arange(valid_y.size), valid_y, 0.8, 0.0, align='center', color=c, **bar_kw)\n",
    "    \n",
    "    for r in rects:\n",
    "        px, py = r.get_xy()\n",
    "        bw = r.get_width()\n",
    "        bh = r.get_height()\n",
    "        \n",
    "        ax.text(px + bw/2, py + bh + 0.005, \"{0:0.1%}\".format(bh), fontsize=12, bbox={'alpha': 0.0},\n",
    "                 horizontalalignment='center')\n",
    "    \n",
    "    ax.set_xticks(np.arange(valid_y.size))\n",
    "    ax.set_xticklabels([np.binary_repr(v, width=9) for v in valid_x])\n",
    "    plt.setp(ax.get_xticklabels(), rotation=-90, ha=\"left\",\n",
    "             rotation_mode=\"anchor\")\n",
    "    \n",
    "    ax.set_ylim(0.0, 1.0)\n",
    "    \n",
    "    return"
   ]
  },
  {
   "cell_type": "markdown",
   "metadata": {},
   "source": [
    "### Defs"
   ]
  },
  {
   "cell_type": "code",
   "execution_count": null,
   "metadata": {},
   "outputs": [],
   "source": [
    "t = 0.005\n",
    "lfreq_figsize = ((16, 8))"
   ]
  },
  {
   "cell_type": "markdown",
   "metadata": {},
   "source": [
    "***\n",
    "# Top-k Labeling Frequencies"
   ]
  },
  {
   "cell_type": "code",
   "execution_count": null,
   "metadata": {},
   "outputs": [],
   "source": [
    "labels = np.load('/home/alberto/phD/projects/performance_prediction/ret-mr-learning/input-labels/2x5-fold/places365/e001-vgg16-DEEPFV/0000.places365.vgg16.irp_lbls.npy')\n",
    "labels_int = ndarray_bin_to_int(labels[:, 1:])\n",
    "freq = np.bincount(labels_int.astype(np.int64), minlength=512)/labels_int.size\n",
    "\n",
    "fig, ax = plt.subplots(1)\n",
    "fig.set_size_inches((lfreq_figsize))\n",
    "ax.set_title('Top-10 Labeling Frequency (>= {0:0.1%})\\nPlaces365 VGG16'.format(t))\n",
    "ax.set_ylabel('Frequency')\n",
    "ax.set_xlabel('Top-10 Labeling')\n",
    "\n",
    "plot_topk_labeling_freq(freq, t, ordered=True, ax=ax)"
   ]
  },
  {
   "cell_type": "code",
   "execution_count": null,
   "metadata": {},
   "outputs": [],
   "source": [
    "labels = np.load('/home/alberto/phD/projects/performance_prediction/ret-mr-learning/input-labels/2x5-fold/places365/e002-resnet152-DEEPFV/0000.places365.resnet152.irp_lbls.npy')\n",
    "labels_int = ndarray_bin_to_int(labels[:, 1:])\n",
    "freq = np.bincount(labels_int.astype(np.int64), minlength=512)/labels_int.size\n",
    "\n",
    "fig, ax = plt.subplots(1)\n",
    "fig.set_size_inches((lfreq_figsize))\n",
    "ax.set_title('Top-10 Labeling Frequency (>= {0:0.1%})\\nPlaces365 Resnet152'.format(t))\n",
    "ax.set_ylabel('Frequency')\n",
    "ax.set_xlabel('Top-10 Labeling')\n",
    "\n",
    "plot_topk_labeling_freq(freq, t, ordered=True, ax=ax)"
   ]
  },
  {
   "cell_type": "code",
   "execution_count": null,
   "metadata": {},
   "outputs": [],
   "source": [
    "labels = np.load('/home/alberto/phD/projects/performance_prediction/ret-mr-learning/input-labels/2x5-fold/vggfaces/e001-DEEPFV/0001.vggfaces.deepv.irp_lbls.npy')\n",
    "labels_int = ndarray_bin_to_int(labels[:, 1:])\n",
    "freq = np.bincount(labels_int.astype(np.int64), minlength=512)/labels_int.size\n",
    "\n",
    "fig, ax = plt.subplots(1)\n",
    "fig.set_size_inches((lfreq_figsize))\n",
    "ax.set_title('Top-10 Labeling Frequency (>= {0:0.1%})\\nVggfaces'.format(t))\n",
    "ax.set_ylabel('Frequency')\n",
    "ax.set_xlabel('Top-10 Labeling')\n",
    "\n",
    "plot_topk_labeling_freq(freq, t, ordered=True, ax=ax)"
   ]
  },
  {
   "cell_type": "code",
   "execution_count": null,
   "metadata": {},
   "outputs": [],
   "source": [
    "labels = np.load('/home/alberto/phD/projects/performance_prediction/ret-mr-learning/input-labels/2x5-fold/vggfaces/e002-PERT-DEEPFV/0002.vggfaces.pert-deepv.irp_lbls.npy')\n",
    "labels_int = ndarray_bin_to_int(labels[:, 1:])\n",
    "freq = np.bincount(labels_int.astype(np.int64), minlength=512)/labels_int.size\n",
    "\n",
    "fig, ax = plt.subplots(1)\n",
    "fig.set_size_inches((lfreq_figsize))\n",
    "ax.set_title('Top-10 Labeling Frequency (>= {0:0.1%})\\nVggfaces w/ perturbations'.format(t))\n",
    "ax.set_ylabel('Frequency')\n",
    "ax.set_xlabel('Top-10 Labeling')\n",
    "\n",
    "plot_topk_labeling_freq(freq, t, ordered=True, ax=ax)"
   ]
  },
  {
   "cell_type": "code",
   "execution_count": null,
   "metadata": {},
   "outputs": [],
   "source": [
    "labels = np.load('/home/alberto/phD/projects/performance_prediction/ret-mr-learning/input-labels/2x5-fold/imagenet/e001-resnetV2-DEEPFV/0000.imagenet.resnetv2.irp_lbls.npy')\n",
    "labels_int = ndarray_bin_to_int(labels[:, 1:])\n",
    "freq = np.bincount(labels_int.astype(np.int64), minlength=512)/labels_int.size\n",
    "\n",
    "fig, ax = plt.subplots(1)\n",
    "fig.set_size_inches((lfreq_figsize))\n",
    "ax.set_title('Top-10 Labeling Frequency (>= {0:0.1%})\\nImagenet ResnetV2'.format(t))\n",
    "ax.set_ylabel('Frequency')\n",
    "ax.set_xlabel('Top-10 Labeling')\n",
    "\n",
    "plot_topk_labeling_freq(freq, t, ordered=True, ax=ax)"
   ]
  }
 ],
 "metadata": {
  "kernelspec": {
   "display_name": "Python 3",
   "language": "python",
   "name": "python3"
  },
  "language_info": {
   "codemirror_mode": {
    "name": "ipython",
    "version": 3
   },
   "file_extension": ".py",
   "mimetype": "text/x-python",
   "name": "python",
   "nbconvert_exporter": "python",
   "pygments_lexer": "ipython3",
   "version": "3.6.4"
  }
 },
 "nbformat": 4,
 "nbformat_minor": 2
}
