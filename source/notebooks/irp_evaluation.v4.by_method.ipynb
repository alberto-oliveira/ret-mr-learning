{
 "cells": [
  {
   "cell_type": "code",
   "execution_count": 1,
   "metadata": {},
   "outputs": [],
   "source": [
    "%load_ext autoreload\n",
    "%autoreload 2"
   ]
  },
  {
   "cell_type": "code",
   "execution_count": 2,
   "metadata": {},
   "outputs": [
    {
     "data": {
      "text/html": [
       "<script>\n",
       "code_show=true; \n",
       "function code_toggle() {\n",
       " if (code_show){\n",
       " $('div.input').hide();\n",
       " } else {\n",
       " $('div.input').show();\n",
       " }\n",
       " code_show = !code_show\n",
       "} \n",
       "$( document ).ready(code_toggle);\n",
       "</script>\n",
       "The raw code for this IPython notebook is by default hidden for easier reading.\n",
       "To toggle on/off the raw code, click <a href=\"javascript:code_toggle()\">here</a>."
      ],
      "text/plain": [
       "<IPython.core.display.HTML object>"
      ]
     },
     "execution_count": 2,
     "metadata": {},
     "output_type": "execute_result"
    }
   ],
   "source": [
    "from IPython.display import HTML\n",
    "HTML('''<script>\n",
    "code_show=true; \n",
    "function code_toggle() {\n",
    " if (code_show){\n",
    " $('div.input').hide();\n",
    " } else {\n",
    " $('div.input').show();\n",
    " }\n",
    " code_show = !code_show\n",
    "} \n",
    "$( document ).ready(code_toggle);\n",
    "</script>\n",
    "The raw code for this IPython notebook is by default hidden for easier reading.\n",
    "To toggle on/off the raw code, click <a href=\"javascript:code_toggle()\">here</a>.''')"
   ]
  },
  {
   "cell_type": "code",
   "execution_count": 3,
   "metadata": {},
   "outputs": [],
   "source": [
    "def save_notebook():\n",
    "    return display(Javascript(\"IPython.notebook.save_notebook()\"),\n",
    "                   include=['application/javascript'])\n",
    "\n",
    "def output_HTML(read_file, output_file):\n",
    "    from nbconvert import HTMLExporter\n",
    "    import codecs\n",
    "    import nbformat\n",
    "    exporter = HTMLExporter()\n",
    "    # read_file is '.ipynb', output_file is '.html'\n",
    "    output_notebook = nbformat.read(read_file, as_version=4)\n",
    "    output, resources = exporter.from_notebook_node(output_notebook)\n",
    "    codecs.open(output_file, 'w', encoding='utf-8').write(output)"
   ]
  },
  {
   "cell_type": "code",
   "execution_count": 4,
   "metadata": {},
   "outputs": [],
   "source": [
    "import sys, os\n",
    "import warnings\n",
    "import glob\n",
    "sys.path.append('../')\n",
    "\n",
    "from rankutils.mappings import ranking_type_map\n",
    "from rankutils.cfgloader import cfgloader\n",
    "from rankutils.evaluation import Evaluator\n",
    "from rankutils.drawing import colors_from_cmap\n",
    "\n",
    "from sklearn.metrics import balanced_accuracy_score, matthews_corrcoef, confusion_matrix, average_precision_score\n",
    "\n",
    "import numpy as np\n",
    "import matplotlib.pyplot as plt\n",
    "import matplotlib.patches as patches\n",
    "%matplotlib inline\n",
    "import seaborn as sns\n",
    "sns.set()\n",
    "\n",
    "from tqdm import tqdm_notebook as tqdm\n",
    "from tqdm import tnrange\n",
    "\n",
    "import mpld3"
   ]
  },
  {
   "cell_type": "code",
   "execution_count": 5,
   "metadata": {},
   "outputs": [],
   "source": [
    "def evaluate(gtpath, predpath, k):\n",
    "        \n",
    "    gt = np.load(gtpath)\n",
    "    p = np.load(predpath)\n",
    "    \n",
    "    if p.ndim == 2:\n",
    "        r = p.shape[0]\n",
    "        p = p.reshape(1, r, -1)\n",
    "        \n",
    "    nrounds = p.shape[0]\n",
    "    \n",
    "    bacc_eval = np.zeros((nrounds, k), dtype=np.float64)\n",
    "    tpr_eval = np.zeros((nrounds, k), dtype=np.float64)\n",
    "    tnr_eval = np.zeros((nrounds, k), dtype=np.float64)\n",
    "    mcc_eval = np.zeros((nrounds, k), dtype=np.float64)\n",
    "    \n",
    "    for r in range(nrounds):\n",
    "        pr = p[r]\n",
    "        \n",
    "        for i in range(k):\n",
    "            \n",
    "            y_true = gt[:, i]\n",
    "            y_pred = pr[:, i]\n",
    "            \n",
    "            bacc_eval[r, i] = balanced_accuracy_score(y_true, y_pred)\n",
    "            mcc_eval[r, i] = matthews_corrcoef(y_true, y_pred)\n",
    "            \n",
    "            tn, fp, fn, tp = confusion_matrix(y_true, y_pred).ravel()\n",
    "            tpr_eval[r, i] = tp/(tp + fn)\n",
    "            tnr_eval[r, i] = tn/(tn + fp)\n",
    "            \n",
    "    return bacc_eval, tpr_eval, tnr_eval, mcc_eval"
   ]
  },
  {
   "cell_type": "code",
   "execution_count": 6,
   "metadata": {},
   "outputs": [],
   "source": [
    "def per_sample_evaluate(gtpath, predpath, k, spos=0):\n",
    "    \n",
    "    gt = np.load(gtpath)\n",
    "    p = np.load(predpath)\n",
    "    \n",
    "    if p.ndim == 2:\n",
    "        s = p.shape[0]\n",
    "        p = p.reshape(1, s, -1)\n",
    "        \n",
    "    nrounds = p.shape[0]\n",
    "    s = p.shape[1]\n",
    "    \n",
    "    sample_bacc_eval = np.zeros((nrounds, s), dtype=np.float64)\n",
    "    sample_acc_eval = np.zeros((nrounds, s), dtype=np.float64)\n",
    "    sample_ap_eval = np.zeros(s, dtype=np.float64)\n",
    "    sample_prec_eval = np.zeros(s, dtype=np.float64)\n",
    "    \n",
    "    for r in range(nrounds):\n",
    "        pr = p[r]\n",
    "        \n",
    "        for i in range(s):\n",
    "            \n",
    "            y_true = gt[i, spos:k]\n",
    "            y_pred = pr[i, spos:k]\n",
    "            \n",
    "            sample_bacc_eval[r, i] = balanced_accuracy_score(y_true, y_pred)\n",
    "            sample_acc_eval[r, i] = np.sum(y_pred == y_true)/y_true.size\n",
    "            \n",
    "            if r == 0:\n",
    "                sample_ap_eval[i] = average_precision_score(y_true, np.arange(y_true.size, 0, -1))\n",
    "                sample_prec_eval[i] = np.sum(y_true)/y_true.size\n",
    "                \n",
    "    return sample_bacc_eval, sample_acc_eval, sample_ap_eval, sample_prec_eval"
   ]
  },
  {
   "cell_type": "code",
   "execution_count": 7,
   "metadata": {},
   "outputs": [],
   "source": [
    "def plot_results(ax, results, k, title, draw_legend):\n",
    "    \n",
    "    ax.set_title(title, fontdict=dict(fontsize=14, horizontalalignment='center'))\n",
    "    \n",
    "    handles = []\n",
    "    labels = []\n",
    "    \n",
    "    bacc, tpr, tnr, mcc = results\n",
    "    \n",
    "    x = np.arange(1, k+1).astype(np.int32)\n",
    "    \n",
    "    line, = ax.plot(x, np.mean(bacc, axis=0), color=colors_from_cmap('Purples', 0.7)[0], marker='s')\n",
    "    handles.append(line)\n",
    "    labels.append('Balanced Acc.')\n",
    "    \n",
    "    line, = ax.plot(x, np.mean(tpr, axis=0), color=colors_from_cmap('Blues', 0.7)[0], marker='o')\n",
    "    handles.append(line)\n",
    "    labels.append('True Pos. Rate')\n",
    "    \n",
    "    line, = ax.plot(x, np.mean(tnr, axis=0), color=colors_from_cmap('Reds', 0.7)[0], marker='o')\n",
    "    handles.append(line)\n",
    "    labels.append('True Neg. Rate')\n",
    "    \n",
    "    line, = ax.plot(x, np.mean(mcc, axis=0), color=colors_from_cmap('Greens', 0.7)[0], marker='X')\n",
    "    handles.append(line)\n",
    "    labels.append('Matthews Corr. Coef.')\n",
    "        \n",
    "    if draw_legend:\n",
    "        ax.legend(handles, labels, fancybox=True, shadow=True, loc='best', ncol=1, fontsize='large')\n",
    "\n",
    "        \n",
    "    ax.set_ylim(bottom=-1.0, top=1.0)\n",
    "    ax.set_yticks([y for y in np.arange(-1.0, 1.1, 0.2)])\n",
    "    ax.set_yticklabels([\"{0:0.1f}\".format(y) for y in np.arange(-1.0, 1.1, 0.2)], fontdict=dict(fontsize=12))\n",
    "    ax.set_ylabel('Measure Value', fontdict=dict(fontsize=12))\n",
    "\n",
    "    ax.set_xlim(left=1.0, right=k)\n",
    "    ax.set_xticks([x for x in np.arange(1, k + 1, 1)])\n",
    "    ax.set_xticklabels([\"{0:d}\".format(x) for x in np.arange(1, k + 1, 1)], fontdict=dict(fontsize=8))\n",
    "    ax.set_xlabel('Rank Position', fontdict=dict(fontsize=12))"
   ]
  },
  {
   "cell_type": "code",
   "execution_count": 8,
   "metadata": {},
   "outputs": [],
   "source": [
    "pathcfg = cfgloader(\"/home/alberto/phD/projects/performance_prediction/ret-mr-learning/source/path_2.cfg\")\n",
    "evalcfgfile = \"/home/alberto/phD/projects/performance_prediction/ret-mr-learning/source/evalcfg/0002.test_eval.cfg\"\n",
    "barfigsize=(20, 8)\n",
    "linefigsize=(15, 15)\n",
    "titleargs=dict(fontsize=14, horizontalalignment='center')\n",
    "k=10\n",
    "method='0001.irp.deltac_i-20.norm.rbfsvm'\n",
    "method_label=\"Delta C 20\"\n",
    "modmethod = '80pct'"
   ]
  },
  {
   "cell_type": "code",
   "execution_count": 9,
   "metadata": {},
   "outputs": [],
   "source": [
    "aliases = dict(oxford_001='OXF SURF-2000 Votes', unicamp_001='UNI SURF-2000 Votes',\n",
    "               places365_001='P365 VGG16-L2Sq', places365_002='P365 R152-L2Sq',\n",
    "               places365_003='P365 VGG16-Cos', places365_004='P365 VGG16-Cheby',\n",
    "               places365_005='P365 VGG16-Canb', vggfaces_001='VGGF VGG16-L2Sq',\n",
    "               vggfaces_002='VGGF VGG16-L2Sq + Pert', vggfaces_003='VGGF VGG16-Cos',\n",
    "               vggfaces_004='VGGF VGG16-Cheb', vggfaces_005='VGGF VGG16-Canb',\n",
    "               imagenet_001='INET Rv2-L2Sq', imagenet_004='INET Rv2-Canb',\n",
    "               imagenet_003='INET Rv2-Cheb', imagenet_002='INET Rv2-Cos',\n",
    "               MPEG7_001='MPEG-7 BAS', MPEG7_002=\"MPEG-7 IDSC\",\n",
    "               MPEG7_003=\"MPEG-7 ASC\", MPEG7_004=\"MPEG-7 AIR\",\n",
    "               MPEG7_005=\"MPEG-7 CFD\", multimodal_003=\"Text FV DICE\",\n",
    "               multimodal_004=\"MultiM Text FV BoW\", multimodal_006=\"MultiM Text FV Jaccard\",\n",
    "               multimodal_010=\"MultiM Img. FV CSD\", multimodal_012=\"MultiM Img. FV Color Bmap\")"
   ]
  },
  {
   "cell_type": "code",
   "execution_count": 10,
   "metadata": {},
   "outputs": [
    {
     "data": {
      "application/vnd.jupyter.widget-view+json": {
       "model_id": "534193186b9d4960b8f155343f954fdd",
       "version_major": 2,
       "version_minor": 0
      },
      "text/plain": [
       "HBox(children=(IntProgress(value=0, description='Evaluating Key ', max=1), HTML(value='')))"
      ]
     },
     "metadata": {},
     "output_type": "display_data"
    },
    {
     "name": "stdout",
     "output_type": "stream",
     "text": [
      "\n"
     ]
    }
   ],
   "source": [
    "results_p = dict()\n",
    "results_m = dict()\n",
    "\n",
    "#keys = ['oxford_001', 'unicamp_001', 'places365_001', 'places365_002', 'places365_003',\n",
    "#        'vggfaces_001', 'vggfaces_002', 'vggfaces_003', 'imagenet_001', 'imagenet_004',\n",
    "#        'imagenet_003']\n",
    "\n",
    "#keys = ['vggfaces_001', 'vggfaces_002', 'vggfaces_003', 'vggfaces_004', 'vggfaces_005',\n",
    "#        'places365_001', 'places365_002', 'places365_003', 'places365_004', 'places365_005',\n",
    "#        'imagenet_001', 'imagenet_004', 'imagenet_003', 'imagenet_002']\n",
    "\n",
    "#keys = ['multimodal_003', 'multimodal_004',\n",
    "#        'multimodal_006', 'multimodal_010',\n",
    "#        'multimodal_012']\n",
    "\n",
    "#keys = ['places365_001', 'places365_002', 'places365_003', 'places365_004', 'places365_005',\n",
    "#       'imagenet_001', 'imagenet_002', 'imagenet_003', 'imagenet_004']\n",
    "\n",
    "keys = ['places365_001']\n",
    "\n",
    "\n",
    "with warnings.catch_warnings():\n",
    "    warnings.simplefilter(\"ignore\")\n",
    "    for key in tqdm(keys, desc='Evaluating Key ', total=len(keys)):\n",
    "        rktpdir = pathcfg.get(key, 'rktpdir')\n",
    "        \n",
    "        gtpath = glob.glob(\"{0:s}/*{1:s}*\".format(pathcfg.get(key, 'label'), rktpdir))[0]\n",
    "        #print(\"{0:s}/{1:s}/{2:s}/*irp.npy\".format(pathcfg.get(key, 'output'), rktpdir, method))\n",
    "        predpath = glob.glob(\"{0:s}/{1:s}/*irp.npy\".format(pathcfg.get(key, 'output'), method))[0]\n",
    "        \n",
    "        results_p[key] = evaluate(gtpath, predpath, k)\n",
    "        \n",
    "        dset, num = key.split(\"_\", 1)\n",
    "        modpath = glob.glob(\"{0:s}/{1:s}/{2:s}/*{3:s}*\".format(pathcfg.get('DEFAULT', 'agglbldir'), dset, modmethod, num))[0]\n",
    "        \n",
    "        results_m[key] = evaluate(gtpath, modpath, k)\n",
    "        "
   ]
  },
  {
   "cell_type": "markdown",
   "metadata": {},
   "source": [
    "# Positional Evaluation"
   ]
  },
  {
   "cell_type": "code",
   "execution_count": 18,
   "metadata": {
    "scrolled": false
   },
   "outputs": [
    {
     "name": "stdout",
     "output_type": "stream",
     "text": [
      "[<matplotlib.axes._subplots.AxesSubplot object at 0x7fddd4e6b278>\n",
      " <matplotlib.axes._subplots.AxesSubplot object at 0x7fddd4d60160>]\n"
     ]
    },
    {
     "data": {
      "image/png": "[encoded data removed]",
      "text/plain": [
       "<Figure size 720x360 with 2 Axes>"
      ]
     },
     "metadata": {},
     "output_type": "display_data"
    }
   ],
   "source": [
    "fig, axes = plt.subplots(len(keys), 2, sharex=True)\n",
    "axes = axes.reshape(-1)\n",
    "fig.set_size_inches((10, len(keys)*5))\n",
    "\n",
    "print(axes)\n",
    "\n",
    "for i, key in enumerate(keys):\n",
    "    \n",
    "    try:\n",
    "        axA, axB = axes[i]\n",
    "    except TypeError:\n",
    "        axA, axB = axes\n",
    "    \n",
    "    plot_results(axA, results_p[key], k, \"{0:s} -- {1:s}\".format(aliases[key], method_label), False)\n",
    "    plot_results(axB, results_m[key], k, \"{0:s} -- {1:s}\".format(aliases[key], modmethod),  True)\n",
    "            \n",
    "\n",
    "fig.tight_layout()\n",
    "plt.subplots_adjust(top=0.92)\n",
    "#plt.savefig('/home/alberto/Dropbox/ICASSP-2019_ML_Relevance_Prediction/tex/figures/ICASSP_2019_Pos-NACC.svg')"
   ]
  },
  {
   "cell_type": "markdown",
   "metadata": {},
   "source": [
    "# Correlation -- Rank-k bACC & AP"
   ]
  },
  {
   "cell_type": "code",
   "execution_count": null,
   "metadata": {},
   "outputs": [],
   "source": [
    "sample_results = dict()\n",
    "\n",
    "with warnings.catch_warnings():\n",
    "    warnings.simplefilter(\"ignore\")\n",
    "    for key in tqdm(keys, desc='Evaluating Key ', total=len(keys)):\n",
    "        rktpdir = pathcfg.get(key, 'rktpdir')\n",
    "\n",
    "        gtpath = glob.glob(\"{0:s}/*{1:s}*\".format(pathcfg.get(key, 'label'), rktpdir))[0]\n",
    "        #print(\"{0:s}/{1:s}/{2:s}/*irp.npy\".format(pathcfg.get(key, 'output'), rktpdir, method))\n",
    "        predpath = glob.glob(\"{0:s}/{1:s}/*irp.npy\".format(pathcfg.get(key, 'output'), method))[0]\n",
    "        \n",
    "        dset, num = key.split(\"_\", 1)\n",
    "        modpath = glob.glob(\"{0:s}/{1:s}/{2:s}/*{3:s}*\".format(pathcfg.get('DEFAULT', 'agglbldir'), dset, modmethod, num))[0]\n",
    "\n",
    "        sample_results[key] = per_sample_evaluate(gtpath, predpath, k, spos=1)"
   ]
  },
  {
   "cell_type": "code",
   "execution_count": null,
   "metadata": {
    "scrolled": false
   },
   "outputs": [],
   "source": [
    "fig, axes = plt.subplots(len(keys), 1)\n",
    "fig.set_size_inches((10, len(keys)*10))\n",
    "\n",
    "for i, key in enumerate(keys):\n",
    "    ax = axes[i]\n",
    "    \n",
    "    ax.set_title(\"{0:s}\".format(aliases[key]), fontdict=titleargs)\n",
    "    \n",
    "    sample_bacc, sample_tpr, sample_tnr, sample_ap, sample_prec = sample_results[key]\n",
    "    #x = sample_ap\n",
    "    x = sample_prec\n",
    "    y = np.mean(sample_tpr, axis=0).reshape(-1)\n",
    "    \n",
    "    ax.scatter(x, y, marker='o', color=colors_from_cmap('inferno', y), alpha=0.2)\n",
    "    \n",
    "    ax.set_ylim(bottom=-0.05, top=1.05)\n",
    "    ax.set_yticks([y for y in np.arange(0, 1.1, 0.1)])\n",
    "    ax.set_ylabel('Sample bACC', fontdict=dict(fontsize=12))\n",
    "\n",
    "    ax.set_xlim(left=-0.05, right=1.05)\n",
    "    ax.set_xticks([x for x in np.arange(0, 1.1, 0.1)])\n",
    "    ax.set_xlabel('Sample Avg. Prec.', fontdict=dict(fontsize=12))\n",
    "    \n",
    "    print(key, np.mean(y))"
   ]
  },
  {
   "cell_type": "code",
   "execution_count": null,
   "metadata": {},
   "outputs": [],
   "source": []
  }
 ],
 "metadata": {
  "kernelspec": {
   "display_name": "Python 3",
   "language": "python",
   "name": "python3"
  },
  "language_info": {
   "codemirror_mode": {
    "name": "ipython",
    "version": 3
   },
   "file_extension": ".py",
   "mimetype": "text/x-python",
   "name": "python",
   "nbconvert_exporter": "python",
   "pygments_lexer": "ipython3",
   "version": "3.6.7"
  }
 },
 "nbformat": 4,
 "nbformat_minor": 2
}
