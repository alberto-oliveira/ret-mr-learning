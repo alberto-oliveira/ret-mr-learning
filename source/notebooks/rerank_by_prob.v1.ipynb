{
 "cells": [
  {
   "cell_type": "code",
   "execution_count": 1,
   "metadata": {},
   "outputs": [],
   "source": [
    "%load_ext autoreload\n",
    "%autoreload 2"
   ]
  },
  {
   "cell_type": "code",
   "execution_count": 2,
   "metadata": {},
   "outputs": [],
   "source": [
    "def save_notebook():\n",
    "    return display(Javascript(\"IPython.notebook.save_notebook()\"),\n",
    "                   include=['application/javascript'])\n",
    "\n",
    "def output_HTML(read_file, output_file):\n",
    "    from nbconvert import HTMLExporter\n",
    "    import codecs\n",
    "    import nbformat\n",
    "    exporter = HTMLExporter()\n",
    "    # read_file is '.ipynb', output_file is '.html'\n",
    "    output_notebook = nbformat.read(read_file, as_version=4)\n",
    "    output, resources = exporter.from_notebook_node(output_notebook)\n",
    "    codecs.open(output_file, 'w', encoding='utf-8').write(output)"
   ]
  },
  {
   "cell_type": "code",
   "execution_count": 3,
   "metadata": {},
   "outputs": [],
   "source": [
    "import sys, os\n",
    "import glob\n",
    "import warnings\n",
    "from itertools import cycle\n",
    "sys.path.append('../')\n",
    "\n",
    "from rankutils.evaluation import comp_precision, comp_recall, interp_prec_recall_curve\n",
    "from rankutils.cfgloader import cfgloader\n",
    "\n",
    "from sklearn.metrics import precision_recall_curve, average_precision_score, precision_score\n",
    "\n",
    "import numpy as np\n",
    "\n",
    "import matplotlib.pyplot as plt\n",
    "%matplotlib inline\n",
    "import mpld3\n",
    "#sns.set()\n",
    "\n",
    "from tqdm import tqdm_notebook as tqdm\n",
    "from tqdm import tnrange\n",
    "\n",
    "pmarkers = cycle(['o', 'v', '^', 'p', 'P', '*', 'h', 'D', 'x'])\n",
    "\n",
    "np.set_printoptions(suppress=True, precision=3, linewidth=300, formatter=dict(float=\"{0:0.4f}\"))"
   ]
  },
  {
   "cell_type": "code",
   "execution_count": 4,
   "metadata": {},
   "outputs": [],
   "source": [
    "def color_negative_red(val):\n",
    "    \"\"\"\n",
    "    Takes a scalar and returns a string with\n",
    "    the css property `'color: red'` for negative\n",
    "    strings, black otherwise.\n",
    "    \"\"\"\n",
    "    if val < 0:\n",
    "        color = 'red' \n",
    "    elif val > 0:\n",
    "        color = 'blue'\n",
    "    else:\n",
    "        color = 'black'\n",
    "    return 'color: %s' % color"
   ]
  },
  {
   "cell_type": "code",
   "execution_count": 5,
   "metadata": {},
   "outputs": [],
   "source": [
    "def make_header_label(header):\n",
    "    \n",
    "    dataset = header['dataset']\n",
    "    method = header['method']\n",
    "    topn = header['topn']\n",
    "    k = header['k']\n",
    "    label = header['labelfolder']\n",
    "    phi = header['phi']\n",
    "    balance = header['balance']\n",
    "    \n",
    "    prefix = \"{0:s} {1:s}\".format(dataset, method)\n",
    "    if len(str(method).split('_')) > 1:        \n",
    "        label = \"{0:25s} [{1:s}][n = {2:03d} | k = {3:03d} | phi = {4:0.2f}\".format(prefix, label, topn, k, phi)\n",
    "        if balance:\n",
    "            label += \" | b = {0:d}\".format(balance)\n",
    "        label += \"]\"\n",
    "        \n",
    "    else:\n",
    "        label = \"{0:25s} [n = {1:03d}]\".format(prefix, topn)\n",
    "    \n",
    "    return label"
   ]
  },
  {
   "cell_type": "code",
   "execution_count": 6,
   "metadata": {},
   "outputs": [],
   "source": [
    "def eval_elp_precision_recall(labels, k):\n",
    "    \n",
    "    assert labels.shape[1] >= k, \"The number of positions labeled for each rank <{0:d}> should be >= k <{1:d}>\".format(labels.shape[1], k)\n",
    "    \n",
    "    elp_rec = np.arange(0.0, 1.1, 0.1)\n",
    "    elp_prec_all = []\n",
    "    ap_all = np.zeros(labels.shape[0], dtype=np.float64)\n",
    "\n",
    "    for i, row in enumerate(labels):\n",
    "        \n",
    "        y_true = row[0:k]\n",
    "        \n",
    "        if y_true.sum() > 0:\n",
    "\n",
    "            prec = comp_precision(y_true)\n",
    "            rec = comp_recall(y_true)\n",
    "\n",
    "            elp_prec_all.append(interp_prec_recall_curve(prec, rec, points=elp_rec))\n",
    "\n",
    "            ap_all[i] = average_precision_score(y_true, np.arange(y_true.size, 0, -1))\n",
    "        else:\n",
    "            aux = np.zeros(11, dtype=np.float64)\n",
    "            aux[0] = 1.0\n",
    "            elp_prec_all.append(aux)\n",
    "\n",
    "    elp_prec_all = np.vstack(elp_prec_all)\n",
    "\n",
    "    mean_elp_prec = np.mean(elp_prec_all, axis=0)\n",
    "    \n",
    "    return mean_elp_prec, np.mean(ap_all), ap_all"
   ]
  },
  {
   "cell_type": "code",
   "execution_count": 7,
   "metadata": {},
   "outputs": [],
   "source": [
    "def load_pathlists(collection, get_bsl=[]):\n",
    "    \n",
    "    # Baseline Labels\n",
    "    bsl_labeldir = '/home/alberto/phD/projects/performance_prediction/ret-mr-learning/input-labels/2x5-fold/{0:s}/'.format(collection)\n",
    "    aux = glob.glob(bsl_labeldir + \"*.npy\")\n",
    "    aux.sort()\n",
    "    if get_bsl:\n",
    "        bsl_labelpaths = []\n",
    "        for i in get_bsl:\n",
    "            bsl_labelpaths.append(aux[i])\n",
    "    else:\n",
    "        bsl_labelpaths = aux\n",
    "\n",
    "    # Aggregated Labels\n",
    "    agg_labeldir = '/home/alberto/phD/projects/performance_prediction/ret-mr-learning/output-agg/eval/'.format(collection)\n",
    "    agg_labelpaths = glob.glob(agg_labeldir + \"*.npz\")\n",
    "    agg_labelpaths.sort()\n",
    "    \n",
    "    return bsl_labelpaths, agg_labelpaths"
   ]
  },
  {
   "cell_type": "code",
   "execution_count": 8,
   "metadata": {},
   "outputs": [],
   "source": [
    "def labeled_rerank(labels, final_pos=1, order=np.array([])):\n",
    "\n",
    "    if order.size == 0:\n",
    "        order = np.arange(labels.shape[0])\n",
    "\n",
    "    i = labels.shape[0] - 1\n",
    "\n",
    "    while i > final_pos:\n",
    "\n",
    "        label_a = labels[i]\n",
    "        label_b = labels[i-1]\n",
    "\n",
    "        if label_a > label_b:\n",
    "            order[i-1], order[i] = order[i], order[i-1]\n",
    "            i -= 2\n",
    "        else:\n",
    "            i -= 1\n",
    "\n",
    "    return order"
   ]
  },
  {
   "cell_type": "code",
   "execution_count": 9,
   "metadata": {},
   "outputs": [],
   "source": [
    "topk = 50\n",
    "collection = 'places365'\n",
    "order = 1\n",
    "key = \"{0:s}_{1:03d}\".format(collection, order)\n",
    "\n",
    "leg_name_map = dict()\n",
    "\n",
    "np.set_printoptions(precision=3, suppress=True)\n",
    "\n",
    "pathcfg = cfgloader('/home/alberto/phD/projects/performance_prediction/ret-mr-learning/source/path_2.cfg')\n",
    "\n",
    "rktpdir = pathcfg.get(key, 'rktpdir')\n",
    "\n",
    "gtpath = glob.glob(\"{0:s}*{1:s}*\".format(pathcfg.get(key, 'label'), rktpdir))[0]\n",
    "gtlabels = np.load(gtpath)[:, 0:topk]\n",
    "\n",
    "probpath = glob.glob(\"{0:s}{1:s}/prob0009/*{2:s}*\".format(pathcfg.get('DEFAULT', 'agglbldir'), collection, rktpdir))[0]\n",
    "pprob = np.load(probpath)[:, 0:topk]"
   ]
  },
  {
   "cell_type": "code",
   "execution_count": 10,
   "metadata": {
    "scrolled": false
   },
   "outputs": [],
   "source": [
    "rrlabels = np.zeros(gtlabels.shape, dtype=np.uint8)\n",
    "\n",
    "rr_2_labels = np.zeros(gtlabels.shape, dtype=np.uint8)\n",
    "\n",
    "for i in range(gtlabels.shape[0]):\n",
    "    \n",
    "    g = gtlabels[i]\n",
    "    p = pprob[i]\n",
    "    \n",
    "    reorder = np.argsort(p)[::-1]\n",
    "    \n",
    "    rrlabels[i] = g[reorder]\n",
    "    \n",
    "    reorder = labeled_rerank(p, final_pos=1, order=np.array([]))\n",
    "    \n",
    "    rr_2_labels[i] = g[reorder]\n",
    "    \n",
    "mean_elp_prec_gt, mAP_gt, ap_all_gt = eval_elp_precision_recall(gtlabels, topk)\n",
    "mean_elp_prec_rr, mAP_rr, ap_all_rr = eval_elp_precision_recall(rrlabels, topk)\n",
    "mean_elp_prec_rr_2, mAP_rr_2, ap_all_rr_2 = eval_elp_precision_recall(rrlabels, topk)"
   ]
  },
  {
   "cell_type": "code",
   "execution_count": 11,
   "metadata": {},
   "outputs": [
    {
     "data": {
      "image/png": "[encoded data removed]",
      "text/plain": [
       "<Figure size 648x576 with 1 Axes>"
      ]
     },
     "metadata": {},
     "output_type": "display_data"
    }
   ],
   "source": [
    "fig, ax = plt.subplots()\n",
    "fig.set_size_inches(9, 8)\n",
    "fig.tight_layout()\n",
    "\n",
    "x = np.arange(0.0, 1.1, 0.1)\n",
    "\n",
    "ax.plot(x, mean_elp_prec_gt, '-s', color='blue', label=\"{0:30s} mAP = {1:0.2f}\".format(rktpdir, mAP_gt), alpha=0.9)\n",
    "ax.plot(x, mean_elp_prec_rr, '-s', color='red', label=\"{0:30s} mAP = {1:0.2f}\".format(rktpdir + ' rerank', mAP_rr), alpha=0.9)\n",
    "ax.plot(x, mean_elp_prec_rr_2, '-s', color='green', label=\"{0:30s} mAP = {1:0.2f}\".format(rktpdir + ' rerank ++', mAP_rr_2), alpha=0.9)\n",
    "\n",
    "ax.set_xlim(0.0, 1.0)\n",
    "ax.set_xlabel('Recall', **dict(fontsize='xx-large'))\n",
    "ax.set_xticks(np.arange(0.0, 1.1, 0.1))\n",
    "\n",
    "ax.set_ylim(0.0, 1.02)\n",
    "ax.set_ylabel('Precision', **dict(fontsize='xx-large'))\n",
    "\n",
    "ax.grid(which='both', axis='both')\n",
    "\n",
    "ax.set_title('{0:s} Top-{1:d} -- Precision x Recall'.format(collection, topk), **dict(fontsize=24), pad=20)\n",
    "\n",
    "legend = ax.legend(prop={'family':'monospace', 'size':'small'})\n",
    "\n",
    "plt.subplots_adjust(left=0.1, top=0.9, bottom=0.1)"
   ]
  }
 ],
 "metadata": {
  "kernelspec": {
   "display_name": "Python 3",
   "language": "python",
   "name": "python3"
  },
  "language_info": {
   "codemirror_mode": {
    "name": "ipython",
    "version": 3
   },
   "file_extension": ".py",
   "mimetype": "text/x-python",
   "name": "python",
   "nbconvert_exporter": "python",
   "pygments_lexer": "ipython3",
   "version": "3.6.7"
  }
 },
 "nbformat": 4,
 "nbformat_minor": 2
}
