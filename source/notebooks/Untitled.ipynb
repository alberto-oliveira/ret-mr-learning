{
 "cells": [
  {
   "cell_type": "code",
   "execution_count": 1,
   "metadata": {},
   "outputs": [],
   "source": [
    "import numpy as np\n",
    "from sklearn.metrics import matthews_corrcoef, confusion_matrix"
   ]
  },
  {
   "cell_type": "code",
   "execution_count": 2,
   "metadata": {},
   "outputs": [],
   "source": [
    "def norm_acc(y_true, y_pred):\n",
    "    assert y_true.shape == y_pred.shape, \"Inconsistent shapes between true labels <{0:s}> and predicted \" \\\n",
    "                                         \"labels <{1:s}>.\".format(str(y_true.shape), str(y_pred.shape))\n",
    "\n",
    "    cfmat = confusion_matrix(y_true, y_pred)\n",
    "\n",
    "    if cfmat.size == 1:\n",
    "        nacc = 1.0\n",
    "\n",
    "    else:\n",
    "        TN = cfmat[0, 0]\n",
    "        FN = cfmat[1, 0]\n",
    "\n",
    "        FP = cfmat[0, 1]\n",
    "        TP = cfmat[1, 1]\n",
    "\n",
    "        if (TN + FP) != 0:\n",
    "            TNR = TN / (TN + FP)\n",
    "        else:\n",
    "            TNR = 0.0\n",
    "\n",
    "        if (TP + FN) != 0:\n",
    "            TPR = TP / (TP + FN)\n",
    "        else:\n",
    "            TPR = 0.0\n",
    "\n",
    "\n",
    "        nacc = (TNR + TPR) / 2\n",
    "\n",
    "    return nacc"
   ]
  },
  {
   "cell_type": "code",
   "execution_count": 3,
   "metadata": {},
   "outputs": [],
   "source": [
    "gt = np.array([[1, 0, 1], [1, 1, 0], [1, 1, 1], \n",
    "               [0, 1, 1], [1, 0, 0], [1, 0, 1], \n",
    "               [1, 1, 1], [0, 1, 1], [0, 0, 0],\n",
    "               [0, 0, 1], [0, 1, 1]], dtype=np.uint8)\n",
    "pred = np.array([[1, 1, 1], [1, 1, 0], [1, 1, 1], \n",
    "                 [0, 0, 0], [0, 0, 0], [1, 0, 0], \n",
    "                 [1, 1, 1], [0, 0, 0], [0, 0, 0],\n",
    "                 [1, 0, 0], [1, 1, 1]], dtype=np.uint8)"
   ]
  },
  {
   "cell_type": "code",
   "execution_count": 4,
   "metadata": {},
   "outputs": [
    {
     "name": "stdout",
     "output_type": "stream",
     "text": [
      "     -- Per Sample --\n",
      "  True   --  Predicted \n",
      "[1 0 1]  --  [1 1 1]\n",
      "[1 1 0]  --  [1 1 0]\n",
      "[1 1 1]  --  [1 1 1]\n",
      "[0 1 1]  --  [0 0 0]\n",
      "[1 0 0]  --  [0 0 0]\n",
      "[1 0 1]  --  [1 0 0]\n",
      "[1 1 1]  --  [1 1 1]\n",
      "[0 1 1]  --  [0 0 0]\n",
      "[0 0 0]  --  [0 0 0]\n",
      "[0 0 1]  --  [1 0 0]\n",
      "[0 1 1]  --  [1 1 1]\n",
      "\n",
      "Avg. Norm. Acc: 0.682\n",
      "Avg. MCC: 0.091\n"
     ]
    },
    {
     "name": "stderr",
     "output_type": "stream",
     "text": [
      "/home/alberto/miniconda3/envs/albpy/lib/python3.6/site-packages/sklearn/metrics/classification.py:538: RuntimeWarning: invalid value encountered in double_scalars\n",
      "  mcc = cov_ytyp / np.sqrt(cov_ytyt * cov_ypyp)\n"
     ]
    }
   ],
   "source": [
    "normaccs = []\n",
    "mccs = []\n",
    "\n",
    "for i in range(gt.shape[0]):\n",
    "    normaccs.append(norm_acc(gt[i], pred[i]))\n",
    "    mccs.append(matthews_corrcoef(gt[i], pred[i]))\n",
    "\n",
    "print(\"     -- Per Sample --\")\n",
    "print(\"  True   --  Predicted \")\n",
    "for i in range(gt.shape[0]):\n",
    "    print(gt[i], \" -- \", pred[i])\n",
    "\n",
    "print(\"\\nAvg. Norm. Acc: {0:0.3f}\".format(np.mean(normaccs)))\n",
    "print(\"Avg. MCC: {0:0.3f}\".format(np.mean(mccs)))"
   ]
  },
  {
   "cell_type": "code",
   "execution_count": 5,
   "metadata": {},
   "outputs": [
    {
     "name": "stdout",
     "output_type": "stream",
     "text": [
      "-- All --\n",
      "True:       [1 0 1 1 1 0 1 1 1 0 1 1 1 0 0 1 0 1 1 1 1 0 1 1 0 0 0 0 0 1 0 1 1]\n",
      "Predicted:  [1 1 1 1 1 0 1 1 1 0 0 0 0 0 0 1 0 0 1 1 1 0 0 0 0 0 0 1 0 0 1 1 1]\n",
      "\n",
      "Norm. Acc: 0.710\n",
      "MCC: 0.410\n"
     ]
    }
   ],
   "source": [
    "nacc = norm_acc(gt.reshape(-1), pred.reshape(-1))\n",
    "mcc =  matthews_corrcoef(gt.reshape(-1), pred.reshape(-1))\n",
    "\n",
    "print(\"-- All --\")\n",
    "print(\"True:      \", gt.reshape(-1))\n",
    "print(\"Predicted: \", pred.reshape(-1))\n",
    "print(\"\\nNorm. Acc: {0:0.3f}\".format(nacc))\n",
    "print(\"MCC: {0:0.3f}\".format(mcc))"
   ]
  }
 ],
 "metadata": {
  "kernelspec": {
   "display_name": "Python 3",
   "language": "python",
   "name": "python3"
  },
  "language_info": {
   "codemirror_mode": {
    "name": "ipython",
    "version": 3
   },
   "file_extension": ".py",
   "mimetype": "text/x-python",
   "name": "python",
   "nbconvert_exporter": "python",
   "pygments_lexer": "ipython3",
   "version": "3.6.4"
  }
 },
 "nbformat": 4,
 "nbformat_minor": 2
}
