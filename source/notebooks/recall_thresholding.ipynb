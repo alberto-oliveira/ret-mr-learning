{
 "cells": [
  {
   "cell_type": "code",
   "execution_count": 1,
   "metadata": {},
   "outputs": [
    {
     "data": {
      "text/html": [
       "<script>\n",
       "code_show=true; \n",
       "function code_toggle() {\n",
       " if (code_show){\n",
       " $('div.input').hide();\n",
       " } else {\n",
       " $('div.input').show();\n",
       " }\n",
       " code_show = !code_show\n",
       "} \n",
       "$( document ).ready(code_toggle);\n",
       "</script>\n",
       "The raw code for this IPython notebook is by default hidden for easier reading.\n",
       "To toggle on/off the raw code, click <a href=\"javascript:code_toggle()\">here</a>."
      ],
      "text/plain": [
       "<IPython.core.display.HTML object>"
      ]
     },
     "execution_count": 1,
     "metadata": {},
     "output_type": "execute_result"
    }
   ],
   "source": [
    "## PRELIMINARIES ##\n",
    "%load_ext autoreload\n",
    "%autoreload 2\n",
    "\n",
    "from IPython.display import HTML\n",
    "from IPython.display import Javascript\n",
    "HTML('''<script>\n",
    "code_show=true; \n",
    "function code_toggle() {\n",
    " if (code_show){\n",
    " $('div.input').hide();\n",
    " } else {\n",
    " $('div.input').show();\n",
    " }\n",
    " code_show = !code_show\n",
    "} \n",
    "$( document ).ready(code_toggle);\n",
    "</script>\n",
    "The raw code for this IPython notebook is by default hidden for easier reading.\n",
    "To toggle on/off the raw code, click <a href=\"javascript:code_toggle()\">here</a>.''')"
   ]
  },
  {
   "cell_type": "code",
   "execution_count": 2,
   "metadata": {},
   "outputs": [],
   "source": [
    "# Python imports\n",
    "import sys\n",
    "sys.path.append('../')\n",
    "import glob"
   ]
  },
  {
   "cell_type": "code",
   "execution_count": 3,
   "metadata": {},
   "outputs": [],
   "source": [
    "# Rankutils imports\n",
    "from rankutils.cfgloader import *\n",
    "from rankutils.utilities import safe_create_dir, completedir, getbasename\n",
    "from rankutils.rIO import read_rank"
   ]
  },
  {
   "cell_type": "code",
   "execution_count": 4,
   "metadata": {},
   "outputs": [],
   "source": [
    "import numpy as np\n",
    "\n",
    "import matplotlib.pyplot as plt\n",
    "%matplotlib inline\n",
    "import mpld3\n",
    "\n",
    "from sklearn.metrics import recall_score, precision_recall_curve"
   ]
  },
  {
   "cell_type": "code",
   "execution_count": 5,
   "metadata": {},
   "outputs": [],
   "source": [
    "def get_label(name):\n",
    "    \n",
    "    parts = name.split(\"_\")\n",
    "    i = 0\n",
    "    \n",
    "    for i in range(len(parts)):\n",
    "        if parts[i].isdigit():\n",
    "            break\n",
    "            \n",
    "    return \"_\".join(parts[:i])"
   ]
  },
  {
   "cell_type": "code",
   "execution_count": 6,
   "metadata": {},
   "outputs": [],
   "source": [
    "def get_query_label(qname):\n",
    "    \n",
    "    suffix = qname.split(\"_\", 1)[1]\n",
    "    return get_label(suffix)"
   ]
  },
  {
   "cell_type": "code",
   "execution_count": 7,
   "metadata": {},
   "outputs": [],
   "source": [
    "def get_relev_list(qname, rknames):\n",
    "    \n",
    "    predicted = []\n",
    "    \n",
    "    for name in rknames:\n",
    "        predicted.append(get_label(name) == get_query_label(qname))\n",
    "        \n",
    "    predicted = np.array(predicted, dtype=np.uint8)\n",
    "    true = np.sort(predicted)[::-1]\n",
    "    \n",
    "    return true, predicted"
   ]
  },
  {
   "cell_type": "code",
   "execution_count": 8,
   "metadata": {},
   "outputs": [],
   "source": [
    "inputdir = '/home/alberto/phD/projects/performance_prediction/ret-mr-learning/input-ranks/2x5-fold/places365/desc1-vgg16-DEEPFV'\n",
    "inputdir = completedir(inputdir)\n",
    "\n",
    "rkflist = glob.glob(inputdir + \"*.rk\")\n",
    "rkflist.sort()"
   ]
  },
  {
   "cell_type": "code",
   "execution_count": 9,
   "metadata": {},
   "outputs": [],
   "source": [
    "rk = read_rank(rkflist[0])\n",
    "rkfname = os.path.basename(rkflist[0])\n",
    "\n",
    "true, pred = get_relev_list(rkfname, rk['name'])\n",
    "\n",
    "flist = np.arange(0.0, 1.05, 0.05)\n",
    "m_ratio = np.zeros(flist.size, dtype=np.float32)\n",
    "\n",
    "ticklabels = []\n",
    "\n",
    "for i, f in enumerate(flist):\n",
    "    ed = int(np.floor(f*pred.size))\n",
    "    head = pred[:ed]\n",
    "    ticklabels.append(ed)\n",
    "    \n",
    "    m_ratio[i] = np.sum(head)/np.sum(pred)"
   ]
  },
  {
   "cell_type": "code",
   "execution_count": 10,
   "metadata": {},
   "outputs": [
    {
     "data": {
      "image/png": "[encoded data removed]",
      "text/plain": [
       "<Figure size 1080x720 with 1 Axes>"
      ]
     },
     "metadata": {},
     "output_type": "display_data"
    }
   ],
   "source": [
    "fig, ax = plt.subplots()\n",
    "# WIDTH, HEIGHT\n",
    "fig.set_size_inches(15, 10)\n",
    "\n",
    "ax.scatter(flist, m_ratio, color='blue')\n",
    "ax.grid()\n",
    "\n",
    "ax.set_xticks(flist)\n",
    "ax.set_xticklabels(ticklabels)\n",
    "\n",
    "ax.set_yticks(np.arange(0.0, 1.05, 0.05))\n",
    "ax.set_ylim(0.0, 1.0)\n",
    "\n",
    "mpld3.disable_notebook()"
   ]
  }
 ],
 "metadata": {
  "kernelspec": {
   "display_name": "Python 3",
   "language": "python",
   "name": "python3"
  },
  "language_info": {
   "codemirror_mode": {
    "name": "ipython",
    "version": 3
   },
   "file_extension": ".py",
   "mimetype": "text/x-python",
   "name": "python",
   "nbconvert_exporter": "python",
   "pygments_lexer": "ipython3",
   "version": "3.6.4"
  }
 },
 "nbformat": 4,
 "nbformat_minor": 2
}
