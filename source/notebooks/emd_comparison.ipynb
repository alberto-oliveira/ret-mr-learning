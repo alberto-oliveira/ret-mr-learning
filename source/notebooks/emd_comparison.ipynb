{
 "cells": [
  {
   "cell_type": "code",
   "execution_count": 1,
   "metadata": {},
   "outputs": [
    {
     "data": {
      "text/html": [
       "<script>\n",
       "code_show=true; \n",
       "function code_toggle() {\n",
       " if (code_show){\n",
       " $('div.input').hide();\n",
       " } else {\n",
       " $('div.input').show();\n",
       " }\n",
       " code_show = !code_show\n",
       "} \n",
       "$( document ).ready(code_toggle);\n",
       "</script>\n",
       "The raw code for this IPython notebook is by default hidden for easier reading.\n",
       "To toggle on/off the raw code, click <a href=\"javascript:code_toggle()\">here</a>."
      ],
      "text/plain": [
       "<IPython.core.display.HTML object>"
      ]
     },
     "execution_count": 1,
     "metadata": {},
     "output_type": "execute_result"
    }
   ],
   "source": [
    "## PRELIMINARIES ##\n",
    "%load_ext autoreload\n",
    "%autoreload 2\n",
    "\n",
    "from IPython.display import HTML\n",
    "from IPython.display import Javascript\n",
    "HTML('''<script>\n",
    "code_show=true; \n",
    "function code_toggle() {\n",
    " if (code_show){\n",
    " $('div.input').hide();\n",
    " } else {\n",
    " $('div.input').show();\n",
    " }\n",
    " code_show = !code_show\n",
    "} \n",
    "$( document ).ready(code_toggle);\n",
    "</script>\n",
    "The raw code for this IPython notebook is by default hidden for easier reading.\n",
    "To toggle on/off the raw code, click <a href=\"javascript:code_toggle()\">here</a>.''')"
   ]
  },
  {
   "cell_type": "code",
   "execution_count": 2,
   "metadata": {},
   "outputs": [],
   "source": [
    "# Python imports\n",
    "import sys\n",
    "sys.path.append('../')\n",
    "import glob"
   ]
  },
  {
   "cell_type": "code",
   "execution_count": 3,
   "metadata": {},
   "outputs": [],
   "source": [
    "# Rankutils imports\n",
    "from rankutils.cfgloader import *\n",
    "from rankutils.utilities import safe_create_dir, completedir, getbasename\n",
    "from rankutils.rIO import read_rank\n",
    "from rankutils.drawing import heatmap, annotate_heatmap"
   ]
  },
  {
   "cell_type": "code",
   "execution_count": 4,
   "metadata": {},
   "outputs": [],
   "source": [
    "# Other imports\n",
    "import numpy as np\n",
    "np.random.seed(93311)\n",
    "import scipy as sp\n",
    "import scipy.stats as stats\n",
    "import matplotlib.pyplot as plt\n",
    "%matplotlib inline\n",
    "import mpld3\n",
    "\n",
    "from sklearn.preprocessing import MinMaxScaler"
   ]
  },
  {
   "cell_type": "code",
   "execution_count": 5,
   "metadata": {},
   "outputs": [
    {
     "data": {
      "text/html": [
       "<script>requirejs.config({paths: { 'plotly': ['https://cdn.plot.ly/plotly-latest.min']},});if(!window.Plotly) {{require(['plotly'],function(plotly) {window.Plotly=plotly;});}}</script>"
      ],
      "text/vnd.plotly.v1+html": [
       "<script>requirejs.config({paths: { 'plotly': ['https://cdn.plot.ly/plotly-latest.min']},});if(!window.Plotly) {{require(['plotly'],function(plotly) {window.Plotly=plotly;});}}</script>"
      ]
     },
     "metadata": {},
     "output_type": "display_data"
    }
   ],
   "source": [
    "# Plotly\n",
    "from plotly.offline import download_plotlyjs, init_notebook_mode, plot, iplot\n",
    "import plotly.graph_objs as plygo\n",
    "init_notebook_mode(connected=True)"
   ]
  },
  {
   "cell_type": "code",
   "execution_count": 6,
   "metadata": {},
   "outputs": [],
   "source": [
    "# Matlab\n",
    "import matlab.engine\n",
    "matlab_engine = matlab.engine.start_matlab()"
   ]
  },
  {
   "cell_type": "code",
   "execution_count": 7,
   "metadata": {},
   "outputs": [],
   "source": [
    "# Few definitions\n",
    "min_tail_size = 5\n",
    "pathcfg = cfgloader('../path_2.cfg')\n",
    "minmaxscaler = MinMaxScaler((0, 1))"
   ]
  },
  {
   "cell_type": "code",
   "execution_count": 8,
   "metadata": {},
   "outputs": [],
   "source": [
    "def read_and_preprocess(rkfpath, limit, scale, convert):\n",
    "    fullrank = read_rank(rkfpath)\n",
    "    \n",
    "    rk = fullrank['score']\n",
    "    namelist = fullrank['name']\n",
    "\n",
    "    if limit > 0:\n",
    "        rk = rk[0:limit]\n",
    "\n",
    "    #if rk[0] == 0:\n",
    "        #rk = rk[1:]\n",
    "\n",
    "    if scl:\n",
    "        rk = minmaxscaler.fit_transform(rk.reshape(-1, 1)).reshape(-1)\n",
    "\n",
    "    if cvt:\n",
    "        rk = np.max(rk) - rk\n",
    "        \n",
    "    lowerb = np.min(rk)\n",
    "    upperb = np.max(rk)\n",
    "    \n",
    "    return rk, namelist, (lowerb, upperb)"
   ]
  },
  {
   "cell_type": "code",
   "execution_count": 9,
   "metadata": {},
   "outputs": [],
   "source": [
    "def fit_distribution(data, disttype):\n",
    "    \n",
    "    data_m = matlab.double(data[data != 0].reshape(-1).tolist())\n",
    "    \n",
    "    distb = dict(name=disttype)\n",
    "    \n",
    "    if disttype == 'WBL':\n",
    "        estpar, _ = matlab_engine.wblfit(data_m, nargout=2)\n",
    "        distb['scale'] = estpar[0][0]\n",
    "        distb['shape'] = estpar[0][1]\n",
    "        distb['loc'] = 0\n",
    "\n",
    "    elif disttype =='GEV':\n",
    "        estpar, _ = matlab_engine.gevfit(data_m, nargout=2)\n",
    "        distb['scale'] = estpar[0][1]\n",
    "        distb['shape'] = estpar[0][0]\n",
    "        distb['loc'] = estpar[0][2]\n",
    "                \n",
    "    return distb"
   ]
  },
  {
   "cell_type": "code",
   "execution_count": 10,
   "metadata": {},
   "outputs": [],
   "source": [
    "def fit_distribution_py(data, disttype):\n",
    "    \n",
    "    data_f = data[data != 0].reshape(-1)\n",
    "    \n",
    "    distb = dict(name=disttype)\n",
    "    \n",
    "    if disttype == 'WBL':\n",
    "        estpar = stats.weibull_min.fit(data_f)\n",
    "        distb['shape'] = float(estpar[0])\n",
    "        distb['loc'] = float(estpar[1]) \n",
    "        distb['scale'] = float(estpar[2])\n",
    "\n",
    "    elif disttype =='GEV':\n",
    "        estpar = stats.genextreme.fit(data_f)\n",
    "        distb['shape'] = float(estpar[0])\n",
    "        distb['loc'] = float(estpar[1]) \n",
    "        distb['scale'] = float(estpar[2])\n",
    "        \n",
    "    print(\"FIT PY: \", distb)\n",
    "        \n",
    "    return distb"
   ]
  },
  {
   "cell_type": "code",
   "execution_count": 11,
   "metadata": {},
   "outputs": [],
   "source": [
    "def get_distribution_values(d, n, bounds):\n",
    "    \n",
    "    lb, ub = bounds\n",
    "    x = matlab.double(np.linspace(0, np.floor(ub*1.5), n).reshape(-1).tolist())\n",
    "    x_cdf = matlab.double(np.linspace(lb, ub, n).reshape(-1).tolist())\n",
    "    x_inv = matlab.double(np.linspace(0, 1, n, endpoint=False).reshape(-1).tolist())\n",
    "    \n",
    "    d['x'] = np.array(x).reshape(-1)\n",
    "    d['xcdf'] = np.array(x_cdf).reshape(-1)\n",
    "    d['xinv'] = np.array(x_inv).reshape(-1)\n",
    "    \n",
    "    if d['name'] == 'WBL':\n",
    "        d['pdf'] = np.array(matlab_engine.wblpdf(x, d['scale'], d['shape']), dtype=np.float64).reshape(-1)\n",
    "        d['cdf'] = np.array(matlab_engine.wblcdf(x_cdf, d['scale'], d['shape']), dtype=np.float64).reshape(-1)\n",
    "        d['inv'] = np.array(matlab_engine.wblinv(x_inv, d['scale'], d['shape']), dtype=np.float64).reshape(-1)\n",
    "        \n",
    "    elif d['name'] == 'GEV':\n",
    "        d['pdf'] = np.array(matlab_engine.gevpdf(x, d['shape'], d['scale'], d['loc']), dtype=np.float64).reshape(-1)\n",
    "        d['cdf'] = np.array(matlab_engine.gevcdf(x_cdf, d['shape'], d['scale'], d['loc']), dtype=np.float64).reshape(-1)\n",
    "        d['inv'] = np.array(matlab_engine.gevinv(x_inv, d['shape'], d['scale'], d['loc']), dtype=np.float64).reshape(-1)\n",
    "        \n",
    "    return"
   ]
  },
  {
   "cell_type": "code",
   "execution_count": 12,
   "metadata": {},
   "outputs": [],
   "source": [
    "def get_distribution_values_py(d, n, bounds):\n",
    "    \n",
    "    lb, ub = bounds\n",
    "    x = np.linspace(0, np.floor(ub*1.5), n).reshape(-1)\n",
    "    x_cdf = np.linspace(lb, ub, n).reshape(-1)\n",
    "    x_inv = np.linspace(0, 1, n, endpoint=False).reshape(-1)\n",
    "    \n",
    "    d['x'] = np.array(x).reshape(-1)\n",
    "    d['xcdf'] = np.array(x_cdf).reshape(-1)\n",
    "    d['xinv'] = np.array(x_inv).reshape(-1)\n",
    "    \n",
    "    if d['name'] == 'WBL':\n",
    "        \n",
    "        d['pdf'] = 0\n",
    "        d['cdf'] = 0\n",
    "        d['inv'] = 0\n",
    "        \n",
    "    elif d['name'] == 'GEV':\n",
    "        d['pdf'] = 0\n",
    "        d['cdf'] = 0\n",
    "        d['inv'] = 0\n",
    "        \n",
    "    return"
   ]
  },
  {
   "cell_type": "code",
   "execution_count": 13,
   "metadata": {},
   "outputs": [],
   "source": [
    "def plot_pdf(x, d, ax=None, **kwargs):\n",
    "    \n",
    "    if not ax:\n",
    "        ax = plt.gca()\n",
    "        \n",
    "    ax.plot(x, d['pdf'], **kwargs)\n",
    "\n",
    "    ax.set_title('{0:s} -- PDF'.format(d['name']))\n",
    "    ax.set_xlim(left=0)\n",
    "    ax.set_ylim(bottom=0)\n",
    "\n",
    "    ax.legend()\n",
    "    \n",
    "    return"
   ]
  },
  {
   "cell_type": "code",
   "execution_count": 14,
   "metadata": {},
   "outputs": [],
   "source": [
    "def plot_density(edges, density, ax=None, **kwargs):\n",
    "    \n",
    "    if not ax:\n",
    "        ax = plt.gca()\n",
    "\n",
    "    ax.bar(edges[0:-1], density, edges[1]-edges[0], 0.0, align='edge', **kwargs)\n",
    "\n",
    "    ax.set_title('Density Plot')\n",
    "    ax.set_xlim(left=0)\n",
    "    ax.set_ylim(bottom=0)\n",
    "\n",
    "    ax.legend()"
   ]
  },
  {
   "cell_type": "code",
   "execution_count": 15,
   "metadata": {},
   "outputs": [],
   "source": [
    "def plot_cdf(x, d, ax=None, **kwargs):\n",
    "    \n",
    "    if not ax:\n",
    "        ax = plt.gca()\n",
    "        \n",
    "    ax.plot(x, d['cdf'], **kwargs)\n",
    "\n",
    "    ax.set_title('{0:s} -- CDF'.format(d['name']))\n",
    "    ax.set_xlim(left=np.min(x), right=np.max(x))\n",
    "    ax.set_ylim(bottom=0, top=1.0)\n",
    "\n",
    "    ax.legend()\n",
    "    \n",
    "    return"
   ]
  },
  {
   "cell_type": "code",
   "execution_count": 16,
   "metadata": {},
   "outputs": [],
   "source": [
    "def inverse_and_points_plot(points, d, ax=None, **kwargs):\n",
    "    \n",
    "    if not ax:\n",
    "        ax = plt.gca()\n",
    "    \n",
    "    lower = np.min([np.min(d['inv']), np.min(points)])\n",
    "    upper = np.max([np.max(d['inv']), np.max(points)])\n",
    "\n",
    "    ax.plot(d['inv'], d['inv'], color=color, linewidth=2.0, label='Inverse CDF')\n",
    "    ax.scatter(points, points, color='magenta', alpha=0.5, label='Scores')\n",
    "\n",
    "    ax.set_title('Scores and Inverse plot')\n",
    "    #ax.set_xlim(left=0, right=np.max(d['inv']))\n",
    "    #ax.set_ylim(bottom=0, top=np.max(d['inv']))\n",
    "\n",
    "    ax.legend()\n",
    "\n",
    "    plt.tight_layout()"
   ]
  },
  {
   "cell_type": "code",
   "execution_count": 17,
   "metadata": {},
   "outputs": [],
   "source": [
    "def density_from_sampling(d, nsamples, dbins=64):\n",
    "    \n",
    "    if d['name'] == 'WBL':\n",
    "        samples = matlab_engine.wblrnd(d['scale'], d['shape'], nsamples, 1)\n",
    "    elif d['name'] == 'GEV':\n",
    "        samples = matlab_engine.gevrnd(d['shape'], d['scale'], d['loc'], nsamples, 1)\n",
    "        \n",
    "    samples = np.array(samples).reshape(-1)\n",
    "    \n",
    "    hist, edges = np.histogram(samples, bins=dbins, density=True)\n",
    "    \n",
    "    return hist, edges"
   ]
  },
  {
   "cell_type": "code",
   "execution_count": 18,
   "metadata": {},
   "outputs": [],
   "source": [
    "def density_approx(d, lowerb, upperb, bins):\n",
    "    \n",
    "    edges = np.linspace(lowerb, upperb, bins+1).reshape(-1)\n",
    "    aux = matlab.double(edges[:-1].tolist())\n",
    "    \n",
    "    if d['name'] == 'WBL':\n",
    "        dens = np.array(matlab_engine.wblpdf(aux, d['scale'], d['shape']), dtype=np.float64).reshape(-1)\n",
    "        \n",
    "    elif d['name'] == 'GEV':\n",
    "        dens = np.array(matlab_engine.gevpdf(aux, d['shape'], d['scale'], d['loc']), dtype=np.float64).reshape(-1)\n",
    "        \n",
    "    return dens, edges  "
   ]
  },
  {
   "cell_type": "code",
   "execution_count": 19,
   "metadata": {},
   "outputs": [],
   "source": [
    "def earth_movers_distance(densa, edgesa, densb, edgesb):\n",
    "    \n",
    "    bsa = np.abs((edgesa[1] - edgesa[0]))\n",
    "    bsb = np.abs((edgesb[1] - edgesb[0]))\n",
    "    \n",
    "    pa = bsa*densa\n",
    "    pb = bsb*densb\n",
    "    \n",
    "    return stats.wasserstein_distance(pa, pb)"
   ]
  },
  {
   "cell_type": "code",
   "execution_count": 20,
   "metadata": {},
   "outputs": [],
   "source": [
    "def kullback_leibler_distance(densa, edgesa, densb, edgesb):\n",
    "    \n",
    "    bsa = np.abs((edgesa[1] - edgesa[0]))\n",
    "    bsb = np.abs((edgesb[1] - edgesb[0]))\n",
    "    \n",
    "    pa = bsa*densa\n",
    "    pb = bsb*densb\n",
    "    \n",
    "    return stats.entropy(pa, pb, base=2)"
   ]
  },
  {
   "cell_type": "code",
   "execution_count": 21,
   "metadata": {},
   "outputs": [],
   "source": [
    "def bcf_feature(densa, edgesa, densb, edgesb):\n",
    "    \n",
    "    bsa = np.abs((edgesa[1] - edgesa[0]))\n",
    "    bsb = np.abs((edgesb[1] - edgesb[0]))\n",
    "    \n",
    "    pa = bsa*densa\n",
    "    pb = bsb*densb\n",
    "    \n",
    "    return np.sqrt(pa*pb)"
   ]
  },
  {
   "cell_type": "code",
   "execution_count": 22,
   "metadata": {},
   "outputs": [],
   "source": [
    "def get_rank_position(namelist, query):\n",
    "    \n",
    "    try:\n",
    "        pos = np.flatnonzero(namelist == query)[0]\n",
    "    except IndexError:\n",
    "        pos = -1\n",
    "        \n",
    "    return pos"
   ]
  },
  {
   "cell_type": "code",
   "execution_count": 23,
   "metadata": {},
   "outputs": [],
   "source": [
    "def plytable(data, keys, toprank=None):\n",
    "    \n",
    "    hdr = list(keys)\n",
    "    v = [data[k] for k in hdr]\n",
    "\n",
    "    v.insert(0, np.arange(1, data.shape[0]+1))\n",
    "    hdr.insert(0, '#')\n",
    "    \n",
    "    trace = plygo.Table(columnwidth=[1, 2, 1, 1, 1, 1, 1],\n",
    "                        header=dict(values=['<b>'+h+'</b>' for h in hdr],\n",
    "                                    line = dict(color='#7D7F80'),\n",
    "                                    fill = dict(color='#a1c3d1'),\n",
    "                                    align = ['center'] * 5),\n",
    "                        cells=dict(values=v,\n",
    "                                   line = dict(color='#7D7F80'),\n",
    "                                   fill = dict(color='#EDFAFF'),\n",
    "                                   align = ['right'] + ['left']*3 + ['center']*2,\n",
    "                                   format = ['03d', None,'.8f', '.8f', '.8f', '04d', '04d'])\n",
    "                       )\n",
    "        \n",
    "    layout = dict(width=1000, height=700)\n",
    "    data = [trace]\n",
    "    fig = dict(data=data, layout=layout)\n",
    "    iplot(fig, filename = 'styled_table')"
   ]
  },
  {
   "cell_type": "code",
   "execution_count": 24,
   "metadata": {},
   "outputs": [],
   "source": [
    "def plyrank(names, scores, title=''):\n",
    "    \n",
    "    v = [[x for x in range(1, scores.size+1)], names, scores]\n",
    "    hdr = ['#', 'name', 'score']\n",
    "\n",
    "    trace = plygo.Table(columnwidth=[1, 2, 2],\n",
    "                        header=dict(values=['<b>'+h+'</b>' for h in hdr],\n",
    "                                    line = dict(color='#7D7F80'),\n",
    "                                    fill = dict(color='#ff4d4d'),\n",
    "                                    align = ['center', 'center', 'center']),\n",
    "                        cells=dict(values=v,\n",
    "                                   line = dict(color='#7D7F80'),\n",
    "                                   fill = dict(color='#ffb3b3'),\n",
    "                                   align = ['right', 'center', 'center'],\n",
    "                                   format = ['03d', None, '0.3f'])\n",
    "                       )\n",
    "\n",
    "    layout = dict(width=700, height=700, title=title)\n",
    "    data = [trace]\n",
    "    fig = dict(data=data, layout=layout)\n",
    "    iplot(fig, filename = 'styled_table')"
   ]
  },
  {
   "cell_type": "code",
   "execution_count": 25,
   "metadata": {},
   "outputs": [],
   "source": [
    "def makelabel(d): \n",
    "    if d['name'] == 'WBL':\n",
    "        return '{0:s} : shape={1:0.2f}, scale={2:0.2f}'.format(d['name'], d['shape'], d['scale']) \n",
    "    \n",
    "    elif d['name'] == 'GEV':\n",
    "        return '{0:s} : shape={1:0.2f}, scale={2:0.2f}, loc={3:0.2f}'.format(d['name'], d['shape'], d['scale'], d['loc'])"
   ]
  },
  {
   "cell_type": "markdown",
   "metadata": {},
   "source": [
    "### Setup"
   ]
  },
  {
   "cell_type": "code",
   "execution_count": 26,
   "metadata": {},
   "outputs": [],
   "source": [
    "rkfpath = '/home/alberto/phD/projects/performance_prediction/ret-mr-learning/input-ranks/2x5-fold/places365/desc1-vgg16-DEEPFV/00000_airfield_00004927.jpg.rk'\n",
    "aux = getbasename(rkfpath).split('_', 1)\n",
    "rkname = aux[1]\n",
    "\n",
    "rkdir = '/home/alberto/phD/temp/rkfiles/places/00000_airfield_00004927.jpg/'\n",
    "rkflist = glob.glob(rkdir + \"*.rk\")\n",
    "rkflist.sort()\n",
    "\n",
    "k = 1500\n",
    "l = -1\n",
    "tp = 'GEV'\n",
    "approx_bins = 1000\n",
    "\n",
    "scl = True\n",
    "cvt = False"
   ]
  },
  {
   "cell_type": "code",
   "execution_count": 27,
   "metadata": {},
   "outputs": [],
   "source": [
    "rka, nla, boundsa = read_and_preprocess(rkfpath, l, scl, cvt)\n",
    "hista, edgesa = np.histogram(rka[k:], bins=64, density=True)\n",
    "tla = rka[k:]\n",
    "\n",
    "approx_lower = 0\n",
    "#approx_lower = np.min(tla)\n",
    "approx_upper = np.max(tla)\n",
    "\n",
    "dista = fit_distribution(tla, tp)\n",
    "get_distribution_values(dista, 10000, boundsa)"
   ]
  },
  {
   "cell_type": "code",
   "execution_count": 28,
   "metadata": {
    "scrolled": false
   },
   "outputs": [
    {
     "data": {
      "image/png": "[encoded data removed]",
      "text/plain": [
       "<Figure size 864x1296 with 5 Axes>"
      ]
     },
     "metadata": {},
     "output_type": "display_data"
    }
   ],
   "source": [
    "fig, axes = plt.subplots(5, 1)\n",
    "ax0, ax1, ax2, ax3, ax4 = axes\n",
    "# WIDTH, HEIGHT\n",
    "fig.set_size_inches(12, 18)\n",
    "\n",
    "plot_pdf(dista['x'], dista, ax=ax0, color='blue', linewidth=2, label=makelabel(dista))\n",
    "\n",
    "plot_pdf(dista['x'], dista, ax=ax1, color='blue', linewidth=2, label=makelabel(dista))\n",
    "plot_density(edgesa, hista, ax=ax1, color='blue',\n",
    "             label='{0:d} bins'.format(hista.size), alpha=0.7, edgecolor='black', linewidth=0.5)\n",
    "ax1.set_title('{0:s} and density plot'.format(dista['name']))\n",
    "\n",
    "plot_cdf(dista['xcdf'], dista, ax=ax2, color='blue', linewidth=2, label=makelabel(dista))\n",
    "\n",
    "a_densa, a_edgesa = density_approx(dista, approx_lower, approx_upper, 64)\n",
    "plot_pdf(dista['x'], dista, ax=ax3, color='blue', linewidth=2, label=makelabel(dista))\n",
    "plot_density(a_edgesa, a_densa, ax=ax3, color='purple', \n",
    "             label='Approximation with {0:d} bins'.format(a_densa.size), alpha=0.7, edgecolor='blue', linewidth=0.5)\n",
    "ax3.set_xticks(a_edgesa[0:np.newaxis:100])\n",
    "\n",
    "a_densa, a_edgesa = density_approx(dista, approx_lower, approx_upper, approx_bins)\n",
    "plot_pdf(dista['x'], dista, ax=ax4, color='blue', linewidth=2, label=makelabel(dista))\n",
    "plot_density(a_edgesa, a_densa, ax=ax4, color='purple', label='Approximation with {0:d} bins'.format(a_densa.size), alpha=0.7)\n",
    "ax4.set_xticks(a_edgesa[0:np.newaxis:100])\n",
    "\n",
    "mpld3.disable_notebook()"
   ]
  },
  {
   "cell_type": "code",
   "execution_count": 29,
   "metadata": {},
   "outputs": [],
   "source": [
    "data = []\n",
    "\n",
    "dist_map = dict()\n",
    "\n",
    "for c_rkfpath in rkflist:\n",
    "    aux = getbasename(c_rkfpath).split('_', 1)\n",
    "    c_rkname = aux[1]\n",
    "    \n",
    "    c_rk, c_nl, c_bounds = read_and_preprocess(c_rkfpath, l, scl, cvt)\n",
    "    c_tl = c_rk[k:]\n",
    "\n",
    "    c_dist = fit_distribution(c_tl, tp)\n",
    "    \n",
    "    c_dens, c_edges = density_approx(c_dist, approx_lower, approx_upper, approx_bins)\n",
    "    \n",
    "    EMD = earth_movers_distance(a_densa, a_edgesa, c_dens, c_edges)\n",
    "    KLD_A = kullback_leibler_distance(a_densa, a_edgesa, c_dens, c_edges)\n",
    "    KLD_C = kullback_leibler_distance(c_dens, c_edges, a_densa, a_edgesa)\n",
    "    \n",
    "    pos_c_a = get_rank_position(nla, c_rkname)\n",
    "    pos_a_c = get_rank_position(c_nl, rkname)\n",
    "    \n",
    "    data.append((c_rkname, EMD, KLD_A, KLD_C, pos_c_a, pos_a_c))\n",
    "    dist_map[c_rkname] = c_dist\n",
    "    \n",
    "ncols = 4\n",
    "nrows = len(data)\n",
    "                \n",
    "dt = dict(names=('name', 'EMD', 'KLD Qy', 'KLD Rkd', 'pos. Rkd in Qy', 'pos. Qy in Rkd'), \n",
    "          formats=('U100', np.float32, np.float32, np.float32, np.int32, np.int32))\n",
    "data = np.array(data, dtype=dt)\n",
    "\n",
    "_ = np.nan_to_num(data['KLD Qy'], False)\n",
    "_ = np.nan_to_num(data['KLD Rkd'], False)"
   ]
  },
  {
   "cell_type": "markdown",
   "metadata": {},
   "source": [
    "### Original Rank (for reference)"
   ]
  },
  {
   "cell_type": "code",
   "execution_count": 30,
   "metadata": {},
   "outputs": [
    {
     "data": {
      "application/vnd.plotly.v1+json": {
       "data": [
        {
         "cells": {
          "align": [
           "right",
           "center",
           "center"
          ],
          "fill": {
           "color": "#ffb3b3"
          },
          "format": [
           "03d",
           null,
           "0.3f"
          ],
          "line": {
           "color": "#7D7F80"
          },
          "values": [
           [],
           [],
           []
          ]
         },
         "columnwidth": [
          1,
          2,
          2
         ],
         "header": {
          "align": [
           "center",
           "center",
           "center"
          ],
          "fill": {
           "color": "#ff4d4d"
          },
          "line": {
           "color": "#7D7F80"
          },
          "values": [
           "<b>#</b>",
           "<b>name</b>",
           "<b>score</b>"
          ]
         },
         "type": "table"
        }
       ],
       "layout": {
        "height": 700,
        "title": "airfield_00004927.jpg Top 0",
        "width": 700
       }
      },
      "text/html": [
       "<div id=\"8de67435-1ef0-4306-b826-1c7ce6074e61\" style=\"height: 700px; width: 700px;\" class=\"plotly-graph-div\"></div><script type=\"text/javascript\">require([\"plotly\"], function(Plotly) { window.PLOTLYENV=window.PLOTLYENV || {};window.PLOTLYENV.BASE_URL=\"https://plot.ly\";Plotly.newPlot(\"8de67435-1ef0-4306-b826-1c7ce6074e61\", [{\"type\": \"table\", \"columnwidth\": [1, 2, 2], \"header\": {\"values\": [\"<b>#</b>\", \"<b>name</b>\", \"<b>score</b>\"], \"line\": {\"color\": \"#7D7F80\"}, \"fill\": {\"color\": \"#ff4d4d\"}, \"align\": [\"center\", \"center\", \"center\"]}, \"cells\": {\"values\": [[], [], []], \"line\": {\"color\": \"#7D7F80\"}, \"fill\": {\"color\": \"#ffb3b3\"}, \"align\": [\"right\", \"center\", \"center\"], \"format\": [\"03d\", null, \"0.3f\"]}}], {\"width\": 700, \"height\": 700, \"title\": \"airfield_00004927.jpg Top 0\"}, {\"showLink\": true, \"linkText\": \"Export to plot.ly\"})});</script>"
      ],
      "text/vnd.plotly.v1+html": [
       "<div id=\"8de67435-1ef0-4306-b826-1c7ce6074e61\" style=\"height: 700px; width: 700px;\" class=\"plotly-graph-div\"></div><script type=\"text/javascript\">require([\"plotly\"], function(Plotly) { window.PLOTLYENV=window.PLOTLYENV || {};window.PLOTLYENV.BASE_URL=\"https://plot.ly\";Plotly.newPlot(\"8de67435-1ef0-4306-b826-1c7ce6074e61\", [{\"type\": \"table\", \"columnwidth\": [1, 2, 2], \"header\": {\"values\": [\"<b>#</b>\", \"<b>name</b>\", \"<b>score</b>\"], \"line\": {\"color\": \"#7D7F80\"}, \"fill\": {\"color\": \"#ff4d4d\"}, \"align\": [\"center\", \"center\", \"center\"]}, \"cells\": {\"values\": [[], [], []], \"line\": {\"color\": \"#7D7F80\"}, \"fill\": {\"color\": \"#ffb3b3\"}, \"align\": [\"right\", \"center\", \"center\"], \"format\": [\"03d\", null, \"0.3f\"]}}], {\"width\": 700, \"height\": 700, \"title\": \"airfield_00004927.jpg Top 0\"}, {\"showLink\": true, \"linkText\": \"Export to plot.ly\"})});</script>"
      ]
     },
     "metadata": {},
     "output_type": "display_data"
    }
   ],
   "source": [
    "plyrank(nla[:nrows], rka[:nrows], \"{0:s} Top {1:d}\".format(rkname, nrows))"
   ]
  },
  {
   "cell_type": "markdown",
   "metadata": {},
   "source": [
    "### EMD sorted\n",
    "We take the 20 first ranked results and sort them by the EMD of their distribution in comparison to the query's distribution.\n",
    "\n",
    "The columns are:\n",
    "* **#**: column number (for reference)\n",
    "* **name**: object name\n",
    "* **EMD**: Earth Movers Distance value computed\n",
    "* **KLD QY**: Kullback-Leibler Dissimilarity value. The Qy suffix indicates that it was computed from the query to the ranked object, since it is assymetric\n",
    "* **KLD Rkd**: Kullback-Leibler Dissimilarity value. The Rkd suffix indicates that it was computed from the ranked object to the query, since it is assymetric\n",
    "* **pos. Rkd in Qy**: Position of the ranked object in the query's rank\n",
    "* **pos. Qy in Rkd**: Position of the query in the ranked object's rank"
   ]
  },
  {
   "cell_type": "code",
   "execution_count": 31,
   "metadata": {
    "scrolled": false
   },
   "outputs": [
    {
     "data": {
      "application/vnd.plotly.v1+json": {
       "data": [
        {
         "cells": {
          "align": [
           "right",
           "left",
           "left",
           "left",
           "center",
           "center"
          ],
          "fill": {
           "color": "#EDFAFF"
          },
          "format": [
           "03d",
           null,
           ".8f",
           ".8f",
           ".8f",
           "04d",
           "04d"
          ],
          "line": {
           "color": "#7D7F80"
          },
          "values": [
           [],
           [],
           [],
           [],
           [],
           [],
           []
          ]
         },
         "columnwidth": [
          1,
          2,
          1,
          1,
          1,
          1,
          1
         ],
         "header": {
          "align": [
           "center",
           "center",
           "center",
           "center",
           "center"
          ],
          "fill": {
           "color": "#a1c3d1"
          },
          "line": {
           "color": "#7D7F80"
          },
          "values": [
           "<b>#</b>",
           "<b>name</b>",
           "<b>EMD</b>",
           "<b>KLD Qy</b>",
           "<b>KLD Rkd</b>",
           "<b>pos. Rkd in Qy</b>",
           "<b>pos. Qy in Rkd</b>"
          ]
         },
         "type": "table"
        }
       ],
       "layout": {
        "height": 700,
        "width": 1000
       }
      },
      "text/html": [
       "<div id=\"3ad9df0c-d7cf-4155-9209-6671e6384be0\" style=\"height: 700px; width: 1000px;\" class=\"plotly-graph-div\"></div><script type=\"text/javascript\">require([\"plotly\"], function(Plotly) { window.PLOTLYENV=window.PLOTLYENV || {};window.PLOTLYENV.BASE_URL=\"https://plot.ly\";Plotly.newPlot(\"3ad9df0c-d7cf-4155-9209-6671e6384be0\", [{\"type\": \"table\", \"columnwidth\": [1, 2, 1, 1, 1, 1, 1], \"header\": {\"values\": [\"<b>#</b>\", \"<b>name</b>\", \"<b>EMD</b>\", \"<b>KLD Qy</b>\", \"<b>KLD Rkd</b>\", \"<b>pos. Rkd in Qy</b>\", \"<b>pos. Qy in Rkd</b>\"], \"line\": {\"color\": \"#7D7F80\"}, \"fill\": {\"color\": \"#a1c3d1\"}, \"align\": [\"center\", \"center\", \"center\", \"center\", \"center\"]}, \"cells\": {\"values\": [[], [], [], [], [], [], []], \"line\": {\"color\": \"#7D7F80\"}, \"fill\": {\"color\": \"#EDFAFF\"}, \"align\": [\"right\", \"left\", \"left\", \"left\", \"center\", \"center\"], \"format\": [\"03d\", null, \".8f\", \".8f\", \".8f\", \"04d\", \"04d\"]}}], {\"width\": 1000, \"height\": 700}, {\"showLink\": true, \"linkText\": \"Export to plot.ly\"})});</script>"
      ],
      "text/vnd.plotly.v1+html": [
       "<div id=\"3ad9df0c-d7cf-4155-9209-6671e6384be0\" style=\"height: 700px; width: 1000px;\" class=\"plotly-graph-div\"></div><script type=\"text/javascript\">require([\"plotly\"], function(Plotly) { window.PLOTLYENV=window.PLOTLYENV || {};window.PLOTLYENV.BASE_URL=\"https://plot.ly\";Plotly.newPlot(\"3ad9df0c-d7cf-4155-9209-6671e6384be0\", [{\"type\": \"table\", \"columnwidth\": [1, 2, 1, 1, 1, 1, 1], \"header\": {\"values\": [\"<b>#</b>\", \"<b>name</b>\", \"<b>EMD</b>\", \"<b>KLD Qy</b>\", \"<b>KLD Rkd</b>\", \"<b>pos. Rkd in Qy</b>\", \"<b>pos. Qy in Rkd</b>\"], \"line\": {\"color\": \"#7D7F80\"}, \"fill\": {\"color\": \"#a1c3d1\"}, \"align\": [\"center\", \"center\", \"center\", \"center\", \"center\"]}, \"cells\": {\"values\": [[], [], [], [], [], [], []], \"line\": {\"color\": \"#7D7F80\"}, \"fill\": {\"color\": \"#EDFAFF\"}, \"align\": [\"right\", \"left\", \"left\", \"left\", \"center\", \"center\"], \"format\": [\"03d\", null, \".8f\", \".8f\", \".8f\", \"04d\", \"04d\"]}}], {\"width\": 1000, \"height\": 700}, {\"showLink\": true, \"linkText\": \"Export to plot.ly\"})});</script>"
      ]
     },
     "metadata": {},
     "output_type": "display_data"
    }
   ],
   "source": [
    "data.sort(order=('EMD'))\n",
    "\n",
    "plytable(data, dt['names'])"
   ]
  },
  {
   "cell_type": "markdown",
   "metadata": {},
   "source": [
    "### Kullback-Leibler Query to Ranked sorted"
   ]
  },
  {
   "cell_type": "code",
   "execution_count": 32,
   "metadata": {},
   "outputs": [
    {
     "data": {
      "application/vnd.plotly.v1+json": {
       "data": [
        {
         "cells": {
          "align": [
           "right",
           "left",
           "left",
           "left",
           "center",
           "center"
          ],
          "fill": {
           "color": "#EDFAFF"
          },
          "format": [
           "03d",
           null,
           ".8f",
           ".8f",
           ".8f",
           "04d",
           "04d"
          ],
          "line": {
           "color": "#7D7F80"
          },
          "values": [
           [],
           [],
           [],
           [],
           [],
           [],
           []
          ]
         },
         "columnwidth": [
          1,
          2,
          1,
          1,
          1,
          1,
          1
         ],
         "header": {
          "align": [
           "center",
           "center",
           "center",
           "center",
           "center"
          ],
          "fill": {
           "color": "#a1c3d1"
          },
          "line": {
           "color": "#7D7F80"
          },
          "values": [
           "<b>#</b>",
           "<b>name</b>",
           "<b>EMD</b>",
           "<b>KLD Qy</b>",
           "<b>KLD Rkd</b>",
           "<b>pos. Rkd in Qy</b>",
           "<b>pos. Qy in Rkd</b>"
          ]
         },
         "type": "table"
        }
       ],
       "layout": {
        "height": 700,
        "width": 1000
       }
      },
      "text/html": [
       "<div id=\"079999bb-377f-474c-accd-1287eafba8ca\" style=\"height: 700px; width: 1000px;\" class=\"plotly-graph-div\"></div><script type=\"text/javascript\">require([\"plotly\"], function(Plotly) { window.PLOTLYENV=window.PLOTLYENV || {};window.PLOTLYENV.BASE_URL=\"https://plot.ly\";Plotly.newPlot(\"079999bb-377f-474c-accd-1287eafba8ca\", [{\"type\": \"table\", \"columnwidth\": [1, 2, 1, 1, 1, 1, 1], \"header\": {\"values\": [\"<b>#</b>\", \"<b>name</b>\", \"<b>EMD</b>\", \"<b>KLD Qy</b>\", \"<b>KLD Rkd</b>\", \"<b>pos. Rkd in Qy</b>\", \"<b>pos. Qy in Rkd</b>\"], \"line\": {\"color\": \"#7D7F80\"}, \"fill\": {\"color\": \"#a1c3d1\"}, \"align\": [\"center\", \"center\", \"center\", \"center\", \"center\"]}, \"cells\": {\"values\": [[], [], [], [], [], [], []], \"line\": {\"color\": \"#7D7F80\"}, \"fill\": {\"color\": \"#EDFAFF\"}, \"align\": [\"right\", \"left\", \"left\", \"left\", \"center\", \"center\"], \"format\": [\"03d\", null, \".8f\", \".8f\", \".8f\", \"04d\", \"04d\"]}}], {\"width\": 1000, \"height\": 700}, {\"showLink\": true, \"linkText\": \"Export to plot.ly\"})});</script>"
      ],
      "text/vnd.plotly.v1+html": [
       "<div id=\"079999bb-377f-474c-accd-1287eafba8ca\" style=\"height: 700px; width: 1000px;\" class=\"plotly-graph-div\"></div><script type=\"text/javascript\">require([\"plotly\"], function(Plotly) { window.PLOTLYENV=window.PLOTLYENV || {};window.PLOTLYENV.BASE_URL=\"https://plot.ly\";Plotly.newPlot(\"079999bb-377f-474c-accd-1287eafba8ca\", [{\"type\": \"table\", \"columnwidth\": [1, 2, 1, 1, 1, 1, 1], \"header\": {\"values\": [\"<b>#</b>\", \"<b>name</b>\", \"<b>EMD</b>\", \"<b>KLD Qy</b>\", \"<b>KLD Rkd</b>\", \"<b>pos. Rkd in Qy</b>\", \"<b>pos. Qy in Rkd</b>\"], \"line\": {\"color\": \"#7D7F80\"}, \"fill\": {\"color\": \"#a1c3d1\"}, \"align\": [\"center\", \"center\", \"center\", \"center\", \"center\"]}, \"cells\": {\"values\": [[], [], [], [], [], [], []], \"line\": {\"color\": \"#7D7F80\"}, \"fill\": {\"color\": \"#EDFAFF\"}, \"align\": [\"right\", \"left\", \"left\", \"left\", \"center\", \"center\"], \"format\": [\"03d\", null, \".8f\", \".8f\", \".8f\", \"04d\", \"04d\"]}}], {\"width\": 1000, \"height\": 700}, {\"showLink\": true, \"linkText\": \"Export to plot.ly\"})});</script>"
      ]
     },
     "metadata": {},
     "output_type": "display_data"
    }
   ],
   "source": [
    "data.sort(order=('KLD Qy'))\n",
    "\n",
    "plytable(data, dt['names'])"
   ]
  },
  {
   "cell_type": "markdown",
   "metadata": {},
   "source": [
    "### Kullback-Leibler Ranked to Query sorted"
   ]
  },
  {
   "cell_type": "code",
   "execution_count": 33,
   "metadata": {},
   "outputs": [
    {
     "data": {
      "application/vnd.plotly.v1+json": {
       "data": [
        {
         "cells": {
          "align": [
           "right",
           "left",
           "left",
           "left",
           "center",
           "center"
          ],
          "fill": {
           "color": "#EDFAFF"
          },
          "format": [
           "03d",
           null,
           ".8f",
           ".8f",
           ".8f",
           "04d",
           "04d"
          ],
          "line": {
           "color": "#7D7F80"
          },
          "values": [
           [],
           [],
           [],
           [],
           [],
           [],
           []
          ]
         },
         "columnwidth": [
          1,
          2,
          1,
          1,
          1,
          1,
          1
         ],
         "header": {
          "align": [
           "center",
           "center",
           "center",
           "center",
           "center"
          ],
          "fill": {
           "color": "#a1c3d1"
          },
          "line": {
           "color": "#7D7F80"
          },
          "values": [
           "<b>#</b>",
           "<b>name</b>",
           "<b>EMD</b>",
           "<b>KLD Qy</b>",
           "<b>KLD Rkd</b>",
           "<b>pos. Rkd in Qy</b>",
           "<b>pos. Qy in Rkd</b>"
          ]
         },
         "type": "table"
        }
       ],
       "layout": {
        "height": 700,
        "width": 1000
       }
      },
      "text/html": [
       "<div id=\"59d74d26-5bfe-4c40-aee9-a47a9374e17a\" style=\"height: 700px; width: 1000px;\" class=\"plotly-graph-div\"></div><script type=\"text/javascript\">require([\"plotly\"], function(Plotly) { window.PLOTLYENV=window.PLOTLYENV || {};window.PLOTLYENV.BASE_URL=\"https://plot.ly\";Plotly.newPlot(\"59d74d26-5bfe-4c40-aee9-a47a9374e17a\", [{\"type\": \"table\", \"columnwidth\": [1, 2, 1, 1, 1, 1, 1], \"header\": {\"values\": [\"<b>#</b>\", \"<b>name</b>\", \"<b>EMD</b>\", \"<b>KLD Qy</b>\", \"<b>KLD Rkd</b>\", \"<b>pos. Rkd in Qy</b>\", \"<b>pos. Qy in Rkd</b>\"], \"line\": {\"color\": \"#7D7F80\"}, \"fill\": {\"color\": \"#a1c3d1\"}, \"align\": [\"center\", \"center\", \"center\", \"center\", \"center\"]}, \"cells\": {\"values\": [[], [], [], [], [], [], []], \"line\": {\"color\": \"#7D7F80\"}, \"fill\": {\"color\": \"#EDFAFF\"}, \"align\": [\"right\", \"left\", \"left\", \"left\", \"center\", \"center\"], \"format\": [\"03d\", null, \".8f\", \".8f\", \".8f\", \"04d\", \"04d\"]}}], {\"width\": 1000, \"height\": 700}, {\"showLink\": true, \"linkText\": \"Export to plot.ly\"})});</script>"
      ],
      "text/vnd.plotly.v1+html": [
       "<div id=\"59d74d26-5bfe-4c40-aee9-a47a9374e17a\" style=\"height: 700px; width: 1000px;\" class=\"plotly-graph-div\"></div><script type=\"text/javascript\">require([\"plotly\"], function(Plotly) { window.PLOTLYENV=window.PLOTLYENV || {};window.PLOTLYENV.BASE_URL=\"https://plot.ly\";Plotly.newPlot(\"59d74d26-5bfe-4c40-aee9-a47a9374e17a\", [{\"type\": \"table\", \"columnwidth\": [1, 2, 1, 1, 1, 1, 1], \"header\": {\"values\": [\"<b>#</b>\", \"<b>name</b>\", \"<b>EMD</b>\", \"<b>KLD Qy</b>\", \"<b>KLD Rkd</b>\", \"<b>pos. Rkd in Qy</b>\", \"<b>pos. Qy in Rkd</b>\"], \"line\": {\"color\": \"#7D7F80\"}, \"fill\": {\"color\": \"#a1c3d1\"}, \"align\": [\"center\", \"center\", \"center\", \"center\", \"center\"]}, \"cells\": {\"values\": [[], [], [], [], [], [], []], \"line\": {\"color\": \"#7D7F80\"}, \"fill\": {\"color\": \"#EDFAFF\"}, \"align\": [\"right\", \"left\", \"left\", \"left\", \"center\", \"center\"], \"format\": [\"03d\", null, \".8f\", \".8f\", \".8f\", \"04d\", \"04d\"]}}], {\"width\": 1000, \"height\": 700}, {\"showLink\": true, \"linkText\": \"Export to plot.ly\"})});</script>"
      ]
     },
     "metadata": {},
     "output_type": "display_data"
    }
   ],
   "source": [
    "data.sort(order=('KLD Rkd'))\n",
    "\n",
    "plytable(data, dt['names'])"
   ]
  },
  {
   "cell_type": "markdown",
   "metadata": {},
   "source": [
    "### Graphical Distribution Comparison\n",
    "EMD sorted"
   ]
  },
  {
   "cell_type": "code",
   "execution_count": 34,
   "metadata": {},
   "outputs": [
    {
     "data": {
      "text/plain": [
       "<Figure size 1224x1440 with 0 Axes>"
      ]
     },
     "metadata": {},
     "output_type": "display_data"
    }
   ],
   "source": [
    "data.sort(order=('EMD'))\n",
    "\n",
    "sr = int(np.ceil(nrows/4))\n",
    "fig, axes = plt.subplots(sr, 4)\n",
    "fig.set_size_inches(17, 20)\n",
    "fig.tight_layout()\n",
    "\n",
    "for i, a in enumerate(axes.reshape(-1)):\n",
    "    \n",
    "    if i >= nrows:\n",
    "        break\n",
    "    key, _, _, _, p, _ = data[i]\n",
    "    d = dist_map[key]\n",
    "    \n",
    "    get_distribution_values(d, 10000, boundsa)\n",
    "    c_dens, c_edges = density_approx(d, approx_lower, approx_upper, 1000)\n",
    "    d['density'] = c_dens\n",
    "    d['edges'] = c_edges\n",
    "    \n",
    "    plot_pdf(dista['x'], dista, ax=a, color='blue', label='query', linewidth=2)\n",
    "    plot_density(a_edgesa, a_densa, ax=a, color='blue', alpha=0.3)\n",
    "    \n",
    "    plot_pdf(d['x'], d, ax=a, color='red', label=key, linewidth=2)\n",
    "    plot_density(c_edges, c_dens, ax=a, color='red', alpha=0.5)"
   ]
  },
  {
   "cell_type": "code",
   "execution_count": 35,
   "metadata": {},
   "outputs": [],
   "source": [
    "s_hmap_emd = np.zeros((nrows, nrows), dtype=np.float64)\n",
    "hmap_emd = np.zeros((nrows, nrows), dtype=np.float64)\n",
    "hmap_kld = np.zeros((nrows, nrows), dtype=np.float64)\n",
    "\n",
    "# Non Sorted\n",
    "for i in range(nrows):\n",
    "    \n",
    "    key_r = nla[i]\n",
    "    d_row = dist_map[key_r]\n",
    "    dens_r = d_row['density']\n",
    "    edges_r = d_row['edges']\n",
    "    \n",
    "    for j in range(nrows):\n",
    "        \n",
    "        key_c = nla[j]\n",
    "        d_col = dist_map[key_c]\n",
    "        dens_c = d_col['density']\n",
    "        edges_c = d_col['edges']\n",
    "        \n",
    "        EMD = earth_movers_distance(dens_r, edges_r, dens_c, edges_c)\n",
    "        KLD = kullback_leibler_distance(dens_r, edges_r, dens_c, edges_c)\n",
    "        hmap_emd[i, j] = EMD\n",
    "        hmap_kld[i, j] = KLD\n",
    "\n",
    "# Sorted\n",
    "for i in range(nrows):\n",
    "    \n",
    "    key_r, _, _, _, _, _ = data[i]\n",
    "    d_row = dist_map[key_r]\n",
    "    dens_r = d_row['density']\n",
    "    edges_r = d_row['edges']\n",
    "    \n",
    "    for j in range(nrows):\n",
    "        \n",
    "        key_c, _, _, _, _, _ = data[j]\n",
    "        d_col = dist_map[key_c]\n",
    "        dens_c = d_col['density']\n",
    "        edges_c = d_col['edges']\n",
    "        \n",
    "        EMD = earth_movers_distance(dens_r, edges_r, dens_c, edges_c)\n",
    "        KLD = kullback_leibler_distance(dens_r, edges_r, dens_c, edges_c)\n",
    "        s_hmap_emd[i, j] = EMD"
   ]
  },
  {
   "cell_type": "markdown",
   "metadata": {},
   "source": [
    "### EMD Heatmap in Query->Ranked EMD-sorted order\n",
    "Rows and columns are sorted according to their EMD to the query image."
   ]
  },
  {
   "cell_type": "code",
   "execution_count": 36,
   "metadata": {},
   "outputs": [
    {
     "name": "stderr",
     "output_type": "stream",
     "text": [
      "/home/alberto/miniconda3/envs/albpy/lib/python3.6/site-packages/matplotlib/axes/_base.py:3124: UserWarning:\n",
      "\n",
      "Attempting to set identical left==right results\n",
      "in singular transformations; automatically expanding.\n",
      "left=-0.5, right=-0.5\n",
      "\n",
      "/home/alberto/miniconda3/envs/albpy/lib/python3.6/site-packages/matplotlib/axes/_base.py:3443: UserWarning:\n",
      "\n",
      "Attempting to set identical bottom==top results\n",
      "in singular transformations; automatically expanding.\n",
      "bottom=-0.5, top=-0.5\n",
      "\n"
     ]
    },
    {
     "ename": "ValueError",
     "evalue": "zero-size array to reduction operation maximum which has no identity",
     "output_type": "error",
     "traceback": [
      "\u001b[0;31m---------------------------------------------------------------------------\u001b[0m",
      "\u001b[0;31mValueError\u001b[0m                                Traceback (most recent call last)",
      "\u001b[0;32m<ipython-input-36-dbf0e3e8f7d4>\u001b[0m in \u001b[0;36m<module>\u001b[0;34m()\u001b[0m\n\u001b[1;32m      4\u001b[0m im = heatmap(s_hmap_emd*100000, data['name'], data['name'], ax=ax, cbarlabel=\"Earth Movers Distance [10^-5]\", \n\u001b[1;32m      5\u001b[0m                                         title=\"{0:s} Top {1:d} EMD comparison\".format(rkname, nrows), cmap='inferno')\n\u001b[0;32m----> 6\u001b[0;31m \u001b[0mtexts\u001b[0m \u001b[0;34m=\u001b[0m \u001b[0mannotate_heatmap\u001b[0m\u001b[0;34m(\u001b[0m\u001b[0mim\u001b[0m\u001b[0;34m,\u001b[0m \u001b[0mvalfmt\u001b[0m\u001b[0;34m=\u001b[0m\u001b[0;34m\"{x:.1f}\"\u001b[0m\u001b[0;34m,\u001b[0m \u001b[0mtextcolors\u001b[0m\u001b[0;34m=\u001b[0m\u001b[0;34m[\u001b[0m\u001b[0;34m'white'\u001b[0m\u001b[0;34m,\u001b[0m \u001b[0;34m'black'\u001b[0m\u001b[0;34m]\u001b[0m\u001b[0;34m)\u001b[0m\u001b[0;34m\u001b[0m\u001b[0m\n\u001b[0m\u001b[1;32m      7\u001b[0m \u001b[0;34m\u001b[0m\u001b[0m\n\u001b[1;32m      8\u001b[0m \u001b[0;31m#print('Is symmetric: ', np.allclose(s_hmap, s_hmap.T))\u001b[0m\u001b[0;34m\u001b[0m\u001b[0;34m\u001b[0m\u001b[0m\n",
      "\u001b[0;32m~/phD/projects/performance_prediction/ret-mr-learning/source/rankutils/drawing.py\u001b[0m in \u001b[0;36mannotate_heatmap\u001b[0;34m(im, data, valfmt, textcolors, threshold, **textkw)\u001b[0m\n\u001b[1;32m    165\u001b[0m         \u001b[0mthreshold\u001b[0m \u001b[0;34m=\u001b[0m \u001b[0mim\u001b[0m\u001b[0;34m.\u001b[0m\u001b[0mnorm\u001b[0m\u001b[0;34m(\u001b[0m\u001b[0mthreshold\u001b[0m\u001b[0;34m)\u001b[0m\u001b[0;34m\u001b[0m\u001b[0m\n\u001b[1;32m    166\u001b[0m     \u001b[0;32melse\u001b[0m\u001b[0;34m:\u001b[0m\u001b[0;34m\u001b[0m\u001b[0m\n\u001b[0;32m--> 167\u001b[0;31m         \u001b[0mthreshold\u001b[0m \u001b[0;34m=\u001b[0m \u001b[0mim\u001b[0m\u001b[0;34m.\u001b[0m\u001b[0mnorm\u001b[0m\u001b[0;34m(\u001b[0m\u001b[0mdata\u001b[0m\u001b[0;34m.\u001b[0m\u001b[0mmax\u001b[0m\u001b[0;34m(\u001b[0m\u001b[0;34m)\u001b[0m\u001b[0;34m)\u001b[0m\u001b[0;34m/\u001b[0m\u001b[0;36m2.\u001b[0m\u001b[0;34m\u001b[0m\u001b[0m\n\u001b[0m\u001b[1;32m    168\u001b[0m \u001b[0;34m\u001b[0m\u001b[0m\n\u001b[1;32m    169\u001b[0m     \u001b[0;31m# Set default alignment to center, but allow it to be\u001b[0m\u001b[0;34m\u001b[0m\u001b[0;34m\u001b[0m\u001b[0m\n",
      "\u001b[0;32m~/miniconda3/envs/albpy/lib/python3.6/site-packages/numpy/ma/core.py\u001b[0m in \u001b[0;36mmax\u001b[0;34m(self, axis, out, fill_value, keepdims)\u001b[0m\n\u001b[1;32m   5724\u001b[0m         \u001b[0;32mif\u001b[0m \u001b[0mout\u001b[0m \u001b[0;32mis\u001b[0m \u001b[0;32mNone\u001b[0m\u001b[0;34m:\u001b[0m\u001b[0;34m\u001b[0m\u001b[0m\n\u001b[1;32m   5725\u001b[0m             result = self.filled(fill_value).max(\n\u001b[0;32m-> 5726\u001b[0;31m                 axis=axis, out=out, **kwargs).view(type(self))\n\u001b[0m\u001b[1;32m   5727\u001b[0m             \u001b[0;32mif\u001b[0m \u001b[0mresult\u001b[0m\u001b[0;34m.\u001b[0m\u001b[0mndim\u001b[0m\u001b[0;34m:\u001b[0m\u001b[0;34m\u001b[0m\u001b[0m\n\u001b[1;32m   5728\u001b[0m                 \u001b[0;31m# Set the mask\u001b[0m\u001b[0;34m\u001b[0m\u001b[0;34m\u001b[0m\u001b[0m\n",
      "\u001b[0;32m~/miniconda3/envs/albpy/lib/python3.6/site-packages/numpy/core/_methods.py\u001b[0m in \u001b[0;36m_amax\u001b[0;34m(a, axis, out, keepdims)\u001b[0m\n\u001b[1;32m     24\u001b[0m \u001b[0;31m# small reductions\u001b[0m\u001b[0;34m\u001b[0m\u001b[0;34m\u001b[0m\u001b[0m\n\u001b[1;32m     25\u001b[0m \u001b[0;32mdef\u001b[0m \u001b[0m_amax\u001b[0m\u001b[0;34m(\u001b[0m\u001b[0ma\u001b[0m\u001b[0;34m,\u001b[0m \u001b[0maxis\u001b[0m\u001b[0;34m=\u001b[0m\u001b[0;32mNone\u001b[0m\u001b[0;34m,\u001b[0m \u001b[0mout\u001b[0m\u001b[0;34m=\u001b[0m\u001b[0;32mNone\u001b[0m\u001b[0;34m,\u001b[0m \u001b[0mkeepdims\u001b[0m\u001b[0;34m=\u001b[0m\u001b[0;32mFalse\u001b[0m\u001b[0;34m)\u001b[0m\u001b[0;34m:\u001b[0m\u001b[0;34m\u001b[0m\u001b[0m\n\u001b[0;32m---> 26\u001b[0;31m     \u001b[0;32mreturn\u001b[0m \u001b[0mumr_maximum\u001b[0m\u001b[0;34m(\u001b[0m\u001b[0ma\u001b[0m\u001b[0;34m,\u001b[0m \u001b[0maxis\u001b[0m\u001b[0;34m,\u001b[0m \u001b[0;32mNone\u001b[0m\u001b[0;34m,\u001b[0m \u001b[0mout\u001b[0m\u001b[0;34m,\u001b[0m \u001b[0mkeepdims\u001b[0m\u001b[0;34m)\u001b[0m\u001b[0;34m\u001b[0m\u001b[0m\n\u001b[0m\u001b[1;32m     27\u001b[0m \u001b[0;34m\u001b[0m\u001b[0m\n\u001b[1;32m     28\u001b[0m \u001b[0;32mdef\u001b[0m \u001b[0m_amin\u001b[0m\u001b[0;34m(\u001b[0m\u001b[0ma\u001b[0m\u001b[0;34m,\u001b[0m \u001b[0maxis\u001b[0m\u001b[0;34m=\u001b[0m\u001b[0;32mNone\u001b[0m\u001b[0;34m,\u001b[0m \u001b[0mout\u001b[0m\u001b[0;34m=\u001b[0m\u001b[0;32mNone\u001b[0m\u001b[0;34m,\u001b[0m \u001b[0mkeepdims\u001b[0m\u001b[0;34m=\u001b[0m\u001b[0;32mFalse\u001b[0m\u001b[0;34m)\u001b[0m\u001b[0;34m:\u001b[0m\u001b[0;34m\u001b[0m\u001b[0m\n",
      "\u001b[0;31mValueError\u001b[0m: zero-size array to reduction operation maximum which has no identity"
     ]
    },
    {
     "data": {
      "image/png": "[encoded data removed]",
      "text/plain": [
       "<Figure size 864x720 with 2 Axes>"
      ]
     },
     "metadata": {},
     "output_type": "display_data"
    }
   ],
   "source": [
    "fig, ax = plt.subplots()\n",
    "fig.set_size_inches(12, 10)\n",
    "fig.tight_layout()  \n",
    "im = heatmap(s_hmap_emd*100000, data['name'], data['name'], ax=ax, cbarlabel=\"Earth Movers Distance [10^-5]\", \n",
    "                                        title=\"{0:s} Top {1:d} EMD comparison\".format(rkname, nrows), cmap='inferno')\n",
    "texts = annotate_heatmap(im, valfmt=\"{x:.1f}\", textcolors=['white', 'black'])\n",
    "\n",
    "#print('Is symmetric: ', np.allclose(s_hmap, s_hmap.T))"
   ]
  },
  {
   "cell_type": "markdown",
   "metadata": {},
   "source": [
    "### EMD Heatmap in Rank-sorted order\n",
    "Rows and columns are shown according to their position in the original rank."
   ]
  },
  {
   "cell_type": "code",
   "execution_count": null,
   "metadata": {},
   "outputs": [],
   "source": [
    "fig, ax = plt.subplots()\n",
    "fig.set_size_inches(12, 10)\n",
    "fig.tight_layout()  \n",
    "im = heatmap(hmap_emd*100000, nla[:nrows], nla[:nrows], ax=ax, cbarlabel=\"Earth Movers Distance [10^-5]\", \n",
    "                                        title=\"{0:s} Top {1:d} EMD comparison\".format(rkname, nrows), cmap='inferno')\n",
    "texts = annotate_heatmap(im, valfmt=\"{x:.1f}\", textcolors=['white', 'black'])\n",
    "\n",
    "#print('Is symmetric: ', np.allclose(hmap, hmap.T))"
   ]
  },
  {
   "cell_type": "markdown",
   "metadata": {},
   "source": [
    "### KLD Heatmap in Rank-sorted order\n",
    "Rows and columns are shown according to their position in the original rank."
   ]
  },
  {
   "cell_type": "code",
   "execution_count": null,
   "metadata": {},
   "outputs": [],
   "source": [
    "fig, ax = plt.subplots()\n",
    "fig.set_size_inches(12, 10)\n",
    "fig.tight_layout()  \n",
    "im = heatmap(hmap_kld*100, nla[:nrows], nla[:nrows], ax=ax, cbarlabel=\"Kullback-Leibler Distance [10^-2]\", \n",
    "                                        title=\"{0:s} Top {1:d} KLD comparison\".format(rkname, nrows), cmap='viridis')\n",
    "texts = annotate_heatmap(im, valfmt=\"{x:.1f}\", textcolors=['white', 'black'])\n",
    "\n",
    "#print('Is symmetric: ', np.allclose(hmap, hmap.T))"
   ]
  },
  {
   "cell_type": "markdown",
   "metadata": {},
   "source": [
    "### EMD Feature\n",
    "The EMD Feature is constructed by removing the (i, j) position, which is always 0, from the above vector. "
   ]
  },
  {
   "cell_type": "code",
   "execution_count": null,
   "metadata": {},
   "outputs": [],
   "source": [
    "featmap = [[hmap_emd[i, j] for j in range(hmap_emd.shape[1]) if j != i] for i in range(hmap_emd.shape[0])]\n",
    "featmap = np.array(featmap, dtype=np.float64)\n",
    "\n",
    "fig, ax = plt.subplots()\n",
    "fig.set_size_inches(12, 10)\n",
    "fig.tight_layout()  \n",
    "\n",
    "colnames = [\"{0:02d}\".format(x) for x in range(nrows-1)]\n",
    "im = heatmap(featmap*100000, data['name'], colnames, ax=ax, cbarlabel=\"Earth Movers Distance [10^-5]\", \n",
    "                                        title=\"{0:s} Top {1:d} EMD feature\".format(rkname, nrows), cmap='Purples')\n",
    "texts = annotate_heatmap(im, valfmt=\"{x:.1f}\", textcolors=['black', 'white'])\n",
    "        "
   ]
  },
  {
   "cell_type": "markdown",
   "metadata": {},
   "source": [
    "### Scaled"
   ]
  },
  {
   "cell_type": "code",
   "execution_count": null,
   "metadata": {},
   "outputs": [],
   "source": [
    "mmxs = MinMaxScaler((0, 1))\n",
    "\n",
    "featmap_scl = mmxs.fit_transform(featmap.T).T\n",
    "\n",
    "fig, ax = plt.subplots()\n",
    "fig.set_size_inches(12, 10)\n",
    "fig.tight_layout()  \n",
    "\n",
    "colnames = [\"{0:02d}\".format(x) for x in range(nrows-1)]\n",
    "im = heatmap(featmap_scl, data['name'], colnames, ax=ax, cbarlabel=\"Earth Movers Distance [10^-5]\", \n",
    "                                        title=\"{0:s} Top {1:d} EMD feature\".format(rkname, nrows), cmap='Purples')\n",
    "texts = annotate_heatmap(im, valfmt=\"{x:.2f}\", textcolors=['black', 'white'])"
   ]
  },
  {
   "cell_type": "markdown",
   "metadata": {},
   "source": [
    "### Bhattacharyya coefficient (BCF) Feature"
   ]
  },
  {
   "cell_type": "code",
   "execution_count": null,
   "metadata": {},
   "outputs": [],
   "source": [
    "bcffeatures = []\n",
    "\n",
    "a_dens, a_edges = density_approx(dista, approx_lower, approx_upper, 128)\n",
    "\n",
    "# Non Sorted\n",
    "for i in range(nrows):\n",
    "    \n",
    "    key_r = nla[i]\n",
    "    d_row = dist_map[key_r]\n",
    "    r_dens, r_edges = density_approx(d_row, approx_lower, approx_upper, 128)\n",
    "    bcffeatures.append(bcf_feature(a_dens, a_edges, r_dens, r_edges))\n",
    "    \n",
    "bcffeatures = np.vstack(bcffeatures)\n",
    "\n",
    "fig, ax = plt.subplots()\n",
    "fig.set_size_inches(15, 10)\n",
    "fig.tight_layout()\n",
    "\n",
    "im = heatmap(bcffeatures, data['name'], [], ax=ax, gridwidth=15, cbarlabel=\"BCF Feature Value\", \n",
    "             title=\"{0:s} Top {1:d} BCF feature\".format(rkname, nrows), cmap='plasma', aspect=5)"
   ]
  },
  {
   "cell_type": "markdown",
   "metadata": {},
   "source": [
    "### Scaled"
   ]
  },
  {
   "cell_type": "code",
   "execution_count": null,
   "metadata": {},
   "outputs": [],
   "source": [
    "mmxs = MinMaxScaler((0, 1))\n",
    "\n",
    "bcffeatures_scl = mmxs.fit_transform(bcffeatures.T).T\n",
    "\n",
    "fig, ax = plt.subplots()\n",
    "fig.set_size_inches(15, 10)\n",
    "fig.tight_layout()\n",
    "\n",
    "im = heatmap(np.sort(bcffeatures_scl, axis=1), data['name'], [], ax=ax, gridwidth=15, cbarlabel=\"BCF Feature Value\", \n",
    "             title=\"{0:s} Top {1:d} BCF feature\".format(rkname, nrows), cmap='plasma', aspect=5)"
   ]
  }
 ],
 "metadata": {
  "kernelspec": {
   "display_name": "Python 3",
   "language": "python",
   "name": "python3"
  },
  "language_info": {
   "codemirror_mode": {
    "name": "ipython",
    "version": 3
   },
   "file_extension": ".py",
   "mimetype": "text/x-python",
   "name": "python",
   "nbconvert_exporter": "python",
   "pygments_lexer": "ipython3",
   "version": "3.6.4"
  }
 },
 "nbformat": 4,
 "nbformat_minor": 2
}
