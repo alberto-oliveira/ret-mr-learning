{
 "cells": [
  {
   "cell_type": "code",
   "execution_count": 1,
   "metadata": {},
   "outputs": [],
   "source": [
    "%load_ext autoreload\n",
    "%autoreload 2"
   ]
  },
  {
   "cell_type": "code",
   "execution_count": 2,
   "metadata": {},
   "outputs": [],
   "source": [
    "import sys, os\n",
    "import glob\n",
    "sys.path.append('../')\n",
    "\n",
    "from collections import OrderedDict\n",
    "\n",
    "import numpy as np\n",
    "\n",
    "from rankutils.stat_mr import StatMR\n",
    "from rankutils.rIO import read_rank\n",
    "from rankutils.mappings import exp_aliases\n",
    "from rankutils.cfgloader import cfgloader\n",
    "\n",
    "import matplotlib.pyplot as plt\n",
    "import matplotlib.patches as patches\n",
    "%matplotlib inline\n",
    "import seaborn as sns\n",
    "sns.set()\n",
    "\n",
    "from tqdm import tqdm_notebook as tqdm\n",
    "from tqdm import tnrange\n",
    "\n",
    "from time import time"
   ]
  },
  {
   "cell_type": "code",
   "execution_count": 3,
   "metadata": {},
   "outputs": [],
   "source": [
    "fwr = StatMR(dist_name='WBL', k=10, method='fixed', opt_metric='MCC', verbose=False)\n",
    "fwr = StatMR(dist_name='WBL', k=10, method='mixt', opt_metric='MCC', verbose=False)\n",
    "k = 10\n",
    "\n",
    "np.set_printoptions(precision=3, suppress=True)"
   ]
  },
  {
   "cell_type": "code",
   "execution_count": 4,
   "metadata": {},
   "outputs": [
    {
     "data": {
      "application/vnd.jupyter.widget-view+json": {
       "model_id": "d2d1f7c961c046b382c1aaf397c7d261",
       "version_major": 2,
       "version_minor": 0
      },
      "text/plain": [
       "HBox(children=(IntProgress(value=0, description='Key ', max=9), HTML(value='')))"
      ]
     },
     "metadata": {},
     "output_type": "display_data"
    },
    {
     "data": {
      "application/vnd.jupyter.widget-view+json": {
       "model_id": "d6553174d3e94c829f6361bbca25f038",
       "version_major": 2,
       "version_minor": 0
      },
      "text/plain": [
       "HBox(children=(IntProgress(value=0, description='Rank file ', max=200), HTML(value='')))"
      ]
     },
     "metadata": {},
     "output_type": "display_data"
    },
    {
     "data": {
      "application/vnd.jupyter.widget-view+json": {
       "model_id": "efdc76647b1e42088d659050a9ef278e",
       "version_major": 2,
       "version_minor": 0
      },
      "text/plain": [
       "HBox(children=(IntProgress(value=0, description='Rank file ', max=200), HTML(value='')))"
      ]
     },
     "metadata": {},
     "output_type": "display_data"
    },
    {
     "data": {
      "application/vnd.jupyter.widget-view+json": {
       "model_id": "f9de13ca33ef4df6ae28fa1127a88b14",
       "version_major": 2,
       "version_minor": 0
      },
      "text/plain": [
       "HBox(children=(IntProgress(value=0, description='Rank file ', max=200), HTML(value='')))"
      ]
     },
     "metadata": {},
     "output_type": "display_data"
    },
    {
     "data": {
      "application/vnd.jupyter.widget-view+json": {
       "model_id": "a207cb2c00654e8599a162fa66967f2a",
       "version_major": 2,
       "version_minor": 0
      },
      "text/plain": [
       "HBox(children=(IntProgress(value=0, description='Rank file ', max=200), HTML(value='')))"
      ]
     },
     "metadata": {},
     "output_type": "display_data"
    },
    {
     "data": {
      "application/vnd.jupyter.widget-view+json": {
       "model_id": "71b8fbf499ca4533b94d8aa1892246cc",
       "version_major": 2,
       "version_minor": 0
      },
      "text/plain": [
       "HBox(children=(IntProgress(value=0, description='Rank file ', max=200), HTML(value='')))"
      ]
     },
     "metadata": {},
     "output_type": "display_data"
    },
    {
     "data": {
      "application/vnd.jupyter.widget-view+json": {
       "model_id": "c375eea4485c465bb5ec43af68f65074",
       "version_major": 2,
       "version_minor": 0
      },
      "text/plain": [
       "HBox(children=(IntProgress(value=0, description='Rank file ', max=200), HTML(value='')))"
      ]
     },
     "metadata": {},
     "output_type": "display_data"
    },
    {
     "data": {
      "application/vnd.jupyter.widget-view+json": {
       "model_id": "932d95fbdf5a4a2fb57369e20cc369c7",
       "version_major": 2,
       "version_minor": 0
      },
      "text/plain": [
       "HBox(children=(IntProgress(value=0, description='Rank file ', max=200), HTML(value='')))"
      ]
     },
     "metadata": {},
     "output_type": "display_data"
    },
    {
     "data": {
      "application/vnd.jupyter.widget-view+json": {
       "model_id": "c93273d31a5942e2bd376aee91c0ba43",
       "version_major": 2,
       "version_minor": 0
      },
      "text/plain": [
       "HBox(children=(IntProgress(value=0, description='Rank file ', max=200), HTML(value='')))"
      ]
     },
     "metadata": {},
     "output_type": "display_data"
    },
    {
     "data": {
      "application/vnd.jupyter.widget-view+json": {
       "model_id": "7313cd9edf8645088fb72f7e0e2fc4e1",
       "version_major": 2,
       "version_minor": 0
      },
      "text/plain": [
       "HBox(children=(IntProgress(value=0, description='Rank file ', max=200), HTML(value='')))"
      ]
     },
     "metadata": {},
     "output_type": "display_data"
    },
    {
     "name": "stdout",
     "output_type": "stream",
     "text": [
      "\n"
     ]
    }
   ],
   "source": [
    "pathcfg = cfgloader(\"/home/alberto/phD/projects/performance_prediction/ret-mr-learning/source/path_2.cfg\")\n",
    "key_order = ['unicamp_001', 'unicamp_002', 'unicamp_004',\n",
    "         'places365_001', 'places365_002',\n",
    "         'imagenet_001', 'imagenet_003', \n",
    "         'vggfaces_001', 'vggfaces_002']\n",
    "            \n",
    "#key_order = ['oxford_001', 'oxford_002', 'unicamp_001']\n",
    "\n",
    "table_fwr = OrderedDict()\n",
    "table_dwr = OrderedDict()\n",
    "\n",
    "for key in tqdm(key_order, desc='Key ', total=len(key_order)):\n",
    "    \n",
    "    rkflist = np.array(glob.glob(\"{0:s}*.rk\".format(pathcfg.get(key, 'rank'))))\n",
    "    rkflist.sort()\n",
    "    \n",
    "    if rkflist.size > 200:\n",
    "        sample_idx = np.random.choice(np.arange(rkflist.size), 200, replace=False)\n",
    "        rkflist = rkflist[sample_idx]\n",
    "    \n",
    "    table_fwr[key] = np.zeros(len(rkflist), dtype=np.float32) - 1\n",
    "    table_dwr[key] = np.zeros(len(rkflist), dtype=np.float32) - 1\n",
    "\n",
    "    for i in tqdm(range(rkflist.size), desc='Rank file ', total=rkflist.size):\n",
    "\n",
    "        rkfpath = rkflist[i]\n",
    "        rank = read_rank(rkfpath, colname='score')\n",
    "\n",
    "        if rank[0] < rank[-1]:\n",
    "            rank = rank.max() - rank\n",
    "\n",
    "        data = rank[k:]\n",
    "\n",
    "        ts = time()\n",
    "        tau = fwr.statistical_fixed(data, 0.0, 1.0)\n",
    "        te = time()\n",
    "        table_fwr[key][i] = te-ts\n",
    "\n",
    "        ts = time()\n",
    "        tau = fwr.statistical_mixture(data, 0.0, 1.0)\n",
    "        te = time()\n",
    "        table_dwr[key][i] = te-ts"
   ]
  },
  {
   "cell_type": "code",
   "execution_count": 5,
   "metadata": {},
   "outputs": [],
   "source": [
    "\n",
    "#print(table_fwr['oxford_004'])\n",
    "#print(table_fwr['oxford_004'].mean())\n",
    "#print(table_fwr['oxford_004'].std())"
   ]
  },
  {
   "cell_type": "code",
   "execution_count": 11,
   "metadata": {},
   "outputs": [
    {
     "data": {
      "image/png": "[encoded data removed]",
      "text/plain": [
       "<Figure size 864x432 with 1 Axes>"
      ]
     },
     "metadata": {},
     "output_type": "display_data"
    }
   ],
   "source": [
    "aux = ['unicamp_004',\n",
    "         'places365_001', 'places365_002',\n",
    "         'imagenet_001', 'imagenet_003', \n",
    "         'vggfaces_001', 'vggfaces_002']\n",
    "\n",
    "fig, axes = plt.subplots(1)\n",
    "try:\n",
    "    axes = axes.reshape(-1)\n",
    "except AttributeError:\n",
    "    axes = [axes]\n",
    "fig.set_size_inches((12, 6))\n",
    "\n",
    "top_lim = -1\n",
    "bot_lim = np.inf\n",
    "\n",
    "leg_handles = []\n",
    "leg_labels = []\n",
    "\n",
    "x = np.arange(0, len(aux))\n",
    "y = []\n",
    "s = []\n",
    "l = []\n",
    "\n",
    "for m in aux:\n",
    "    y.append(table_fwr[m].mean())\n",
    "    s.append(table_fwr[m].std())\n",
    "    l.append(exp_aliases[m])\n",
    "\n",
    "y = np.array(y)\n",
    "s = np.array(s)\n",
    "\n",
    "if (y + s).max() > top_lim:\n",
    "    top_lim = (y + s).max()*1.05\n",
    "if (y - s).min() < bot_lim:\n",
    "    bot_lim = (y - s).min()*0.95\n",
    "\n",
    "ebar = axes[0].errorbar(x, y, yerr=s, xerr=None, capsize=100, ecolor='black', linestyle='', \n",
    "                        marker='s', markersize=6, color='#3498db', alpha=1.0)\n",
    "\n",
    "leg_handles.append(ebar[0])\n",
    "\n",
    "y = []\n",
    "s = []\n",
    "\n",
    "for m in aux:\n",
    "    y.append(table_dwr[m].mean())\n",
    "    s.append(table_dwr[m].std())\n",
    "\n",
    "y = np.array(y)\n",
    "s = np.array(s)\n",
    "\n",
    "if (y + s).max() > top_lim:\n",
    "    top_lim = (y + s).max()*1.05\n",
    "if (y - s).min() < bot_lim:\n",
    "    bot_lim = (y - s).min()*0.95\n",
    "\n",
    "ebar = axes[0].errorbar(x, y, yerr=s, xerr=None, capsize=100, ecolor='black', linestyle='',\n",
    "                        marker='o', markersize=6, color='#e67e22', alpha=1.0)\n",
    "\n",
    "leg_handles.append(ebar[0])\n",
    "\n",
    "#leg_handles = [ebar['FWR-MR'][0], ebar['DWR-MR'][0]]\n",
    "#leg_labels = ['FWR-MR', 'DWR-MR']\n",
    "\n",
    "#axes[0].set_ylim(top=(y + s).max()*1.1, bottom=(y - s).min()*0.9)\n",
    "axes[0].set_ylim(top=10*1, bottom=10**-3)\n",
    "axes[0].set_xticks(x)\n",
    "axes[0].set_xticklabels(l, rotation=-20, ha=\"left\")\n",
    "\n",
    "axes[0].set_ylabel('Time (log(s))', **dict(fontsize='x-large'))\n",
    "axes[0].set_xlabel('Setting', **dict(fontsize='x-large'))\n",
    "\n",
    "axes[0].set_title('Avg. Prediction time per setting', **dict(fontsize='xx-large'))\n",
    "\n",
    "\n",
    "plt.yscale('log', nonposy='clip')\n",
    "plt.grid(True, which=\"both\")\n",
    "fig.legend(leg_handles, ['FWR-MR', 'DWR-MR'], fancybox=True, shadow=True, ncol=1,\n",
    "           fontsize='large', loc='center right', bbox_to_anchor=[0.98, 0.87])\n",
    "fig.tight_layout()\n",
    "plt.subplots_adjust(top=0.92)\n",
    "plt.savefig('/home/alberto/phD/projects/performance_prediction/ret-mr-learning/results/thesis/timing/stat-mr_timing.pdf', dpi=300)"
   ]
  }
 ],
 "metadata": {
  "kernelspec": {
   "display_name": "Python 3",
   "language": "python",
   "name": "python3"
  },
  "language_info": {
   "codemirror_mode": {
    "name": "ipython",
    "version": 3
   },
   "file_extension": ".py",
   "mimetype": "text/x-python",
   "name": "python",
   "nbconvert_exporter": "python",
   "pygments_lexer": "ipython3",
   "version": "3.6.7"
  }
 },
 "nbformat": 4,
 "nbformat_minor": 2
}
