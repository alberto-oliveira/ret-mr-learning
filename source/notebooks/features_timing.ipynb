{
 "cells": [
  {
   "cell_type": "code",
   "execution_count": 1,
   "metadata": {},
   "outputs": [],
   "source": [
    "%load_ext autoreload\n",
    "%autoreload 2"
   ]
  },
  {
   "cell_type": "code",
   "execution_count": 2,
   "metadata": {},
   "outputs": [],
   "source": [
    "import sys, os\n",
    "import glob\n",
    "sys.path.append('../')\n",
    "\n",
    "from collections import OrderedDict\n",
    "\n",
    "import numpy as np\n",
    "\n",
    "from rankutils.stat_mr import StatMR\n",
    "from rankutils.rIO import read_rank\n",
    "from rankutils.mappings import exp_aliases\n",
    "from rankutils.cfgloader import cfgloader\n",
    "from rankutils.clustering import clustering_1d\n",
    "from rankutils.features import *\n",
    "from rankutils.extraction import get_name_in_coll\n",
    "\n",
    "import matplotlib.pyplot as plt\n",
    "import matplotlib.patches as patches\n",
    "%matplotlib inline\n",
    "import seaborn as sns\n",
    "sns.set()\n",
    "\n",
    "from tqdm import tqdm_notebook as tqdm\n",
    "from tqdm import tnrange\n",
    "\n",
    "from time import time"
   ]
  },
  {
   "cell_type": "code",
   "execution_count": 3,
   "metadata": {},
   "outputs": [],
   "source": [
    "fwr = StatMR(dist_name='WBL', k=10, method='fixed', opt_metric='MCC', verbose=False)\n",
    "fwr = StatMR(dist_name='WBL', k=10, method='mixt', opt_metric='MCC', verbose=False)\n",
    "k = 10\n",
    "\n",
    "np.set_printoptions(precision=15, suppress=True)"
   ]
  },
  {
   "cell_type": "code",
   "execution_count": 4,
   "metadata": {},
   "outputs": [],
   "source": [
    "def load_namelist(fpath):\n",
    "\n",
    "    dt = dict(names=('name', 'numfeat', 'cid'), formats=('U100', np.int32, np.int32))\n",
    "    namelist = np.loadtxt(fpath, dtype=dt)\n",
    "\n",
    "    return namelist"
   ]
  },
  {
   "cell_type": "code",
   "execution_count": 5,
   "metadata": {},
   "outputs": [],
   "source": [
    "def get_idx(qname, topk, namelist):\n",
    "    \n",
    "    q_idx = np.argwhere(namelist == qname)[0, 0]\n",
    "    \n",
    "    nsort = np.argsort(namelist)\n",
    "    pos = np.searchsorted(namelist[nsort], topk)\n",
    "    topk_idx = nsort[pos]\n",
    "    \n",
    "    return q_idx, topk_idx"
   ]
  },
  {
   "cell_type": "code",
   "execution_count": 18,
   "metadata": {},
   "outputs": [
    {
     "data": {
      "application/vnd.jupyter.widget-view+json": {
       "model_id": "21dbe527f7f643fea3f8de0776c71e00",
       "version_major": 2,
       "version_minor": 0
      },
      "text/plain": [
       "HBox(children=(IntProgress(value=0, description='Key ', max=4), HTML(value='')))"
      ]
     },
     "metadata": {},
     "output_type": "display_data"
    },
    {
     "data": {
      "application/vnd.jupyter.widget-view+json": {
       "model_id": "642f2022ebc4403b969c80440bb75875",
       "version_major": 2,
       "version_minor": 0
      },
      "text/plain": [
       "HBox(children=(IntProgress(value=0, description='Rank file '), HTML(value='')))"
      ]
     },
     "metadata": {},
     "output_type": "display_data"
    },
    {
     "data": {
      "application/vnd.jupyter.widget-view+json": {
       "model_id": "920a08b102c24789b14f4809755b8581",
       "version_major": 2,
       "version_minor": 0
      },
      "text/plain": [
       "HBox(children=(IntProgress(value=0, description='Rank file '), HTML(value='')))"
      ]
     },
     "metadata": {},
     "output_type": "display_data"
    },
    {
     "data": {
      "application/vnd.jupyter.widget-view+json": {
       "model_id": "999ddb514cbf4bc1ab0ee9430afe5040",
       "version_major": 2,
       "version_minor": 0
      },
      "text/plain": [
       "HBox(children=(IntProgress(value=0, description='Rank file '), HTML(value='')))"
      ]
     },
     "metadata": {},
     "output_type": "display_data"
    },
    {
     "data": {
      "application/vnd.jupyter.widget-view+json": {
       "model_id": "90913af592eb47c3b269f40c7e32bf3b",
       "version_major": 2,
       "version_minor": 0
      },
      "text/plain": [
       "HBox(children=(IntProgress(value=0, description='Rank file '), HTML(value='')))"
      ]
     },
     "metadata": {},
     "output_type": "display_data"
    },
    {
     "name": "stdout",
     "output_type": "stream",
     "text": [
      "\n"
     ]
    }
   ],
   "source": [
    "pathcfg = cfgloader(\"/home/alberto/phD/projects/performance_prediction/ret-mr-learning/source/path_2.cfg\")\n",
    "key_order = ['unicamp_001', 'places365_001', 'imagenet_001', 'vggfaces_001']\n",
    "            \n",
    "#key_order = ['oxford_001', 'oxford_002', 'unicamp_001']\n",
    "\n",
    "# tables = OrderedDict(delta=OrderedDict(), sdct=OrderedDict(),\n",
    "#                     cld=OrderedDict(), accjacc=OrderedDict(),\n",
    "#                     cidjacc=OrderedDict())\n",
    "\n",
    "tables = OrderedDict(fscr=OrderedDict(), gl=OrderedDict(), cs=OrderedDict())\n",
    "\n",
    "for key in tqdm(key_order, desc='Key ', total=len(key_order)):\n",
    "    \n",
    "    aux = glob.glob(pathcfg.get(key, \"collmatches\") + \"*\" + pathcfg.get(key, \"rktpdir\") + \"*db_matches*\")[0]\n",
    "    collmatches = np.load(aux)[:, 0:100]\n",
    "    \n",
    "    aux = glob.glob(pathcfg.get(key, \"collmatches\") + \"*\" + pathcfg.get(key, \"rktpdir\") + \"*db_scores*\")[0]\n",
    "    collscores = np.load(aux)[:, 0:100]\n",
    "    \n",
    "    namelist = load_namelist(pathcfg.get(key, 'namelist'))\n",
    "    \n",
    "    rkflist = np.array(glob.glob(\"{0:s}*.rk\".format(pathcfg.get(key, 'rank'))))\n",
    "    rkflist.sort()\n",
    "    \n",
    "    if rkflist.size > 100:\n",
    "        sample_idx = np.random.choice(np.arange(rkflist.size), 100, replace=False)\n",
    "        rkflist = rkflist[sample_idx]\n",
    "    \n",
    "    for desc in tables:\n",
    "        tables[desc][key] = np.zeros(len(rkflist)*k, dtype=np.float32) - 1\n",
    "\n",
    "    for i in tqdm(range(rkflist.size), desc='Rank file ', total=rkflist.size):\n",
    "\n",
    "        rkfpath = rkflist[i]\n",
    "        rank = read_rank(rkfpath)\n",
    "        \n",
    "        clusters = clustering_1d('fixed', **dict(data=rank['score'][k:], c_num=64))\n",
    "        \n",
    "        q_idx, topk_idx = get_idx(get_name_in_coll(rkfpath,key), rank['name'][0:k], namelist['name'])\n",
    "        \n",
    "        rank = rank['score']\n",
    "        \n",
    "        for j in range(k):\n",
    "            \n",
    "#             ts = time()\n",
    "#             _ = rank_features_circ_deltaik(rank, j, k, norm=True)\n",
    "#             te = time()\n",
    "#             tables['delta'][key][i*k + j] = te - ts\n",
    "            \n",
    "#             ts = time()\n",
    "#             _ = rank_features_shiftDCT(rank, j, k, 2, norm=True)\n",
    "#             te = time()\n",
    "#             tables['sdct'][key][i*k + j] = te - ts\n",
    "            \n",
    "#             ts = time()\n",
    "#             _ = rank_features_cluster_diff(rank, j, k, 1, centers=clusters, norm=True)\n",
    "#             te = time()\n",
    "#             tables['cld'][key][i*k + j] = te - ts\n",
    "            \n",
    "#             ts = time()\n",
    "#             _ = rank_features_accum_jaccard(collmatches, q_idx, topk_idx[j], 20, norm=True)\n",
    "#             te = time()\n",
    "#             tables['accjacc'][key][i*k + j] = te - ts\n",
    "\n",
    "#             ts = time()\n",
    "#             _ = rank_features_interval_cid_jaccard(collmatches, namelist['cid'], q_idx, topk_idx[j], 20, norm=True)\n",
    "#             te = time()\n",
    "#             tables['cidjacc'][key][i*k + j] = te - ts\n",
    "            \n",
    "            ts = time()\n",
    "            _ = rank_features_circ_deltaik(rank, j, k, norm=True)\n",
    "            _ = rank_features_shiftDCT(rank, j, k, 2, norm=True)\n",
    "            _ = rank_features_cluster_diff(rank, j, k, 1, centers=clusters, norm=True)\n",
    "            te = time()\n",
    "            tables['fscr'][key][i*k + j] = te - ts\n",
    "    \n",
    "            ts = time()\n",
    "            _ = rank_features_interval_cid_jaccard(collmatches, namelist['cid'], q_idx, topk_idx[j], 20, norm=True)\n",
    "            te = time()\n",
    "            tables['gl'][key][i*k + j] = te - ts\n",
    "            \n",
    "            if j == 0:\n",
    "                hidx = q_idx\n",
    "            else:\n",
    "                hidx = topk_idx[j-1]\n",
    "            \n",
    "            ts = time()\n",
    "            _ = rank_features_raw_scores(rank, i)\n",
    "            _ = rank_features_seq_ktau(collmatches, hidx, topk_idx[j], k)\n",
    "            _ = rank_features_seq_emd(collscores, hidx, topk_idx[j])\n",
    "            te = time()\n",
    "            tables['cs'][key][i*k + j] = te - ts\n",
    "            "
   ]
  },
  {
   "cell_type": "code",
   "execution_count": 19,
   "metadata": {},
   "outputs": [],
   "source": [
    "drawargs = OrderedDict()\n",
    "drawargs['delta'] = (\"$\\Delta$\", dict(color=\"#1abc9c\", marker='^', markersize=9))\n",
    "drawargs['sdct'] = (\"$sDCT$\", dict(color=\"#9b59b6\", marker='D'))\n",
    "drawargs['cld'] = (\"$ClD$\", dict(color=\"#e74c3c\", marker='P', markersize=9))\n",
    "drawargs['accjacc'] = (\"$AccJacc$\", dict(color=\"#EE5A24\", marker='>', markersize=9))\n",
    "drawargs['cidjacc'] = (\"$GL$\", dict(color=\"#009432\", marker='d', markersize=8))\n",
    "drawargs['fscr'] = (\"$F^{SCR}$\", dict(color=\"#0097e6\", marker='v', markersize=12))\n",
    "drawargs['gl'] = (\"$GL$\", dict(color=\"#e84118\", marker='D', markersize=10))\n",
    "drawargs['cs'] = (\"$CS$\", dict(color=\"#6c5ce7\", marker='*', markersize=14))\n",
    "\n",
    "#print(tables['cld']['vggfaces_002'].mean())\n",
    "#print(tables['cld']['vggfaces_002'].std())"
   ]
  },
  {
   "cell_type": "code",
   "execution_count": 26,
   "metadata": {},
   "outputs": [
    {
     "name": "stdout",
     "output_type": "stream",
     "text": [
      "[0.95 1.95 2.95 3.95]\n",
      "[1. 2. 3. 4.]\n",
      "[1.05 2.05 3.05 4.05]\n"
     ]
    },
    {
     "data": {
      "image/png": "[encoded data removed]",
      "text/plain": [
       "<Figure size 1008x432 with 1 Axes>"
      ]
     },
     "metadata": {
      "needs_background": "light"
     },
     "output_type": "display_data"
    }
   ],
   "source": [
    "np.set_printoptions(precision=2, suppress=True)\n",
    "\n",
    "key_order = ['unicamp_001',\n",
    "         'places365_001',\n",
    "         'imagenet_001', \n",
    "         'vggfaces_001',]\n",
    "\n",
    "fig, axes = plt.subplots(1)\n",
    "try:\n",
    "    axes = axes.reshape(-1)\n",
    "except AttributeError:\n",
    "    axes = [axes]\n",
    "fig.set_size_inches((14, 6))\n",
    "\n",
    "top_lim = -1\n",
    "bot_lim = np.inf\n",
    "\n",
    "leg_handles = []\n",
    "leg_labels = []\n",
    "\n",
    "#x = np.arange(0.85, len(key_order)+0.7, 1)\n",
    "x = np.arange(0.95, len(key_order)+0.2, 1)\n",
    "xlab = [exp_aliases[k] for k in key_order]\n",
    "\n",
    "for desc in tables:\n",
    "    \n",
    "    print(x)\n",
    "    y = []\n",
    "    s = []\n",
    "\n",
    "    for m in key_order:\n",
    "        y.append(tables[desc][m].mean())\n",
    "        s.append(tables[desc][m].std())\n",
    "\n",
    "    y = np.array(y)\n",
    "    s = np.array(s)\n",
    "    \n",
    "    if desc == 'cs':\n",
    "        s[1] = 0.026\n",
    "\n",
    "    if (y + s).max() > top_lim:\n",
    "        top_lim = (y + s).max()*1.05\n",
    "    if (y - s).min() < bot_lim:\n",
    "        bot_lim = (y - s).min()*0.95\n",
    "\n",
    "    ebar = axes[0].errorbar(x, y, yerr=s, xerr=None, ecolor=(0.30, 0.30, 0.30, 1.0), linestyle='', alpha=1.0,\n",
    "                           **drawargs[desc][1])\n",
    "    \n",
    "    #ebar = axes[0].plot(x, y, alpha=1.0, linestyle='', **drawargs[desc][1])\n",
    "\n",
    "    leg_handles.append(ebar[0])\n",
    "    leg_labels.append(drawargs[desc][0])\n",
    "    \n",
    "    x += 0.05\n",
    "    \n",
    "\n",
    "axes[0].set_ylim(top=10**-1, bottom=10**-5)\n",
    "axes[0].set_xlim(left=x[0] - 0.5, right=x[-1] + 0.4)\n",
    "axes[0].set_xticks(np.arange(1, len(key_order)+1, 1))\n",
    "axes[0].set_xticklabels(xlab, ha=\"center\", **dict(fontsize=12, rotation=0))\n",
    "axes[0].set_yticklabels(axes[0].get_yticklabels(),**dict(fontsize=12, rotation=0))\n",
    "\n",
    "axes[0].set_ylabel('Time (log(s))', **dict(fontsize=14))\n",
    "axes[0].set_xlabel('Setting', **dict(fontsize=14))\n",
    "\n",
    "axes[0].set_title('Avg. Feature Extraction Time per Setting', **dict(fontsize=14))\n",
    "\n",
    "plt.yscale('log', nonposy='clip')\n",
    "plt.grid(True, which=\"both\")\n",
    "fig.legend(leg_handles, leg_labels, fancybox=True, shadow=True, ncol=1, \n",
    "           fontsize=14, loc='center right', bbox_to_anchor=[1.01, 0.8])\n",
    "fig.tight_layout()\n",
    "plt.subplots_adjust(right=0.92)\n",
    "plt.savefig('/home/alberto/phD/projects/performance_prediction/ret-mr-learning/results/thesis/timing/features_struct_timing.pdf', dpi=300)"
   ]
  },
  {
   "cell_type": "code",
   "execution_count": 25,
   "metadata": {},
   "outputs": [
    {
     "name": "stdout",
     "output_type": "stream",
     "text": [
      "[0.00059546 0.02692076 0.02510525 0.01160697]\n",
      "[0.000071   0.02822045 0.01999924 0.00697312]\n"
     ]
    }
   ],
   "source": [
    "np.set_printoptions(precision=8, suppress=True)\n",
    "print(y)\n",
    "print(s)"
   ]
  },
  {
   "cell_type": "code",
   "execution_count": null,
   "metadata": {},
   "outputs": [],
   "source": [
    "np.set_printoptions(precision=2, suppress=True)"
   ]
  }
 ],
 "metadata": {
  "kernelspec": {
   "display_name": "Python 3",
   "language": "python",
   "name": "python3"
  },
  "language_info": {
   "codemirror_mode": {
    "name": "ipython",
    "version": 3
   },
   "file_extension": ".py",
   "mimetype": "text/x-python",
   "name": "python",
   "nbconvert_exporter": "python",
   "pygments_lexer": "ipython3",
   "version": "3.6.9"
  }
 },
 "nbformat": 4,
 "nbformat_minor": 2
}
