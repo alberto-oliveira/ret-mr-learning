{
 "cells": [
  {
   "cell_type": "code",
   "execution_count": 1,
   "metadata": {},
   "outputs": [],
   "source": [
    "%load_ext autoreload\n",
    "%autoreload 2"
   ]
  },
  {
   "cell_type": "code",
   "execution_count": 2,
   "metadata": {},
   "outputs": [],
   "source": [
    "import sys, os\n",
    "import glob\n",
    "sys.path.append('../')\n",
    "\n",
    "from collections import OrderedDict\n",
    "\n",
    "import numpy as np\n",
    "\n",
    "from rankutils.stat_mr import StatMR\n",
    "from rankutils.rIO import read_rank\n",
    "from rankutils.mappings import exp_aliases\n",
    "from rankutils.cfgloader import cfgloader\n",
    "from rankutils.clustering import clustering_1d\n",
    "from rankutils.features import *\n",
    "from rankutils.extraction import get_name_in_coll\n",
    "\n",
    "import matplotlib.pyplot as plt\n",
    "import matplotlib.patches as patches\n",
    "%matplotlib inline\n",
    "import seaborn as sns\n",
    "sns.set()\n",
    "\n",
    "from tqdm import tqdm_notebook as tqdm\n",
    "from tqdm import tnrange\n",
    "\n",
    "from time import time"
   ]
  },
  {
   "cell_type": "code",
   "execution_count": 3,
   "metadata": {},
   "outputs": [],
   "source": [
    "fwr = StatMR(dist_name='WBL', k=10, method='fixed', opt_metric='MCC', verbose=False)\n",
    "fwr = StatMR(dist_name='WBL', k=10, method='mixt', opt_metric='MCC', verbose=False)\n",
    "k = 10\n",
    "\n",
    "np.set_printoptions(precision=15, suppress=True)"
   ]
  },
  {
   "cell_type": "code",
   "execution_count": 4,
   "metadata": {},
   "outputs": [],
   "source": [
    "def load_namelist(fpath):\n",
    "\n",
    "    dt = dict(names=('name', 'numfeat', 'cid'), formats=('U100', np.int32, np.int32))\n",
    "    namelist = np.loadtxt(fpath, dtype=dt)\n",
    "\n",
    "    return namelist"
   ]
  },
  {
   "cell_type": "code",
   "execution_count": 5,
   "metadata": {},
   "outputs": [],
   "source": [
    "def get_idx(qname, topk, namelist):\n",
    "    \n",
    "    q_idx = np.argwhere(namelist == qname)[0, 0]\n",
    "    \n",
    "    nsort = np.argsort(namelist)\n",
    "    pos = np.searchsorted(namelist[nsort], topk)\n",
    "    topk_idx = nsort[pos]\n",
    "    \n",
    "    return q_idx, topk_idx"
   ]
  },
  {
   "cell_type": "code",
   "execution_count": 6,
   "metadata": {},
   "outputs": [
    {
     "data": {
      "application/vnd.jupyter.widget-view+json": {
       "model_id": "e30a90c8a82c42479e1b3ce6e8c51cb5",
       "version_major": 2,
       "version_minor": 0
      },
      "text/plain": [
       "HBox(children=(IntProgress(value=0, description='Key ', max=9), HTML(value='')))"
      ]
     },
     "metadata": {},
     "output_type": "display_data"
    },
    {
     "data": {
      "application/vnd.jupyter.widget-view+json": {
       "model_id": "dd866841aa8845558835dc37061bbd54",
       "version_major": 2,
       "version_minor": 0
      },
      "text/plain": [
       "HBox(children=(IntProgress(value=0, description='Rank file '), HTML(value='')))"
      ]
     },
     "metadata": {},
     "output_type": "display_data"
    },
    {
     "data": {
      "application/vnd.jupyter.widget-view+json": {
       "model_id": "f30d8d5a1c4c4faf81eb0a3b3c322c77",
       "version_major": 2,
       "version_minor": 0
      },
      "text/plain": [
       "HBox(children=(IntProgress(value=0, description='Rank file '), HTML(value='')))"
      ]
     },
     "metadata": {},
     "output_type": "display_data"
    },
    {
     "data": {
      "application/vnd.jupyter.widget-view+json": {
       "model_id": "40f97c8d28fa415dba10cffef7a61eb0",
       "version_major": 2,
       "version_minor": 0
      },
      "text/plain": [
       "HBox(children=(IntProgress(value=0, description='Rank file '), HTML(value='')))"
      ]
     },
     "metadata": {},
     "output_type": "display_data"
    },
    {
     "data": {
      "application/vnd.jupyter.widget-view+json": {
       "model_id": "a87e5024f1e349168cce252d1e3ddecf",
       "version_major": 2,
       "version_minor": 0
      },
      "text/plain": [
       "HBox(children=(IntProgress(value=0, description='Rank file '), HTML(value='')))"
      ]
     },
     "metadata": {},
     "output_type": "display_data"
    },
    {
     "data": {
      "application/vnd.jupyter.widget-view+json": {
       "model_id": "e4eff0c653e546d4a4afa8bb04efa1b3",
       "version_major": 2,
       "version_minor": 0
      },
      "text/plain": [
       "HBox(children=(IntProgress(value=0, description='Rank file '), HTML(value='')))"
      ]
     },
     "metadata": {},
     "output_type": "display_data"
    },
    {
     "data": {
      "application/vnd.jupyter.widget-view+json": {
       "model_id": "7f5dfc5aa4414b3bab2c45a5d9a4b1c4",
       "version_major": 2,
       "version_minor": 0
      },
      "text/plain": [
       "HBox(children=(IntProgress(value=0, description='Rank file '), HTML(value='')))"
      ]
     },
     "metadata": {},
     "output_type": "display_data"
    },
    {
     "data": {
      "application/vnd.jupyter.widget-view+json": {
       "model_id": "6610f79847ae4086ac126cec1a9e7f5e",
       "version_major": 2,
       "version_minor": 0
      },
      "text/plain": [
       "HBox(children=(IntProgress(value=0, description='Rank file '), HTML(value='')))"
      ]
     },
     "metadata": {},
     "output_type": "display_data"
    },
    {
     "data": {
      "application/vnd.jupyter.widget-view+json": {
       "model_id": "9a3ca64ba4354f888e84c18790e72674",
       "version_major": 2,
       "version_minor": 0
      },
      "text/plain": [
       "HBox(children=(IntProgress(value=0, description='Rank file '), HTML(value='')))"
      ]
     },
     "metadata": {},
     "output_type": "display_data"
    },
    {
     "data": {
      "application/vnd.jupyter.widget-view+json": {
       "model_id": "1b32299094b4421690d9ebd0aac46dd4",
       "version_major": 2,
       "version_minor": 0
      },
      "text/plain": [
       "HBox(children=(IntProgress(value=0, description='Rank file '), HTML(value='')))"
      ]
     },
     "metadata": {},
     "output_type": "display_data"
    },
    {
     "name": "stdout",
     "output_type": "stream",
     "text": [
      "\n"
     ]
    }
   ],
   "source": [
    "pathcfg = cfgloader(\"/home/alberto/phD/projects/performance_prediction/ret-mr-learning/source/path_2.cfg\")\n",
    "key_order = ['unicamp_001', 'unicamp_002', 'unicamp_004',\n",
    "         'places365_001', 'places365_002',\n",
    "         'imagenet_001', 'imagenet_003', \n",
    "         'vggfaces_001', 'vggfaces_002']\n",
    "            \n",
    "#key_order = ['oxford_001', 'oxford_002', 'unicamp_001']\n",
    "\n",
    "tables = OrderedDict(delta=OrderedDict(), sdct=OrderedDict(),\n",
    "                     cld=OrderedDict(), accjacc=OrderedDict(),\n",
    "                     cidjacc=OrderedDict())\n",
    "\n",
    "for key in tqdm(key_order, desc='Key ', total=len(key_order)):\n",
    "    \n",
    "    aux = glob.glob(pathcfg.get(key, \"collmatches\") + \"*\" + pathcfg.get(key, \"rktpdir\") + \"*db_matches*\")[0]\n",
    "    collmatches = np.load(aux)[:, 0:100]\n",
    "    \n",
    "    namelist = load_namelist(pathcfg.get(key, 'namelist'))\n",
    "    \n",
    "    rkflist = np.array(glob.glob(\"{0:s}*.rk\".format(pathcfg.get(key, 'rank'))))\n",
    "    rkflist.sort()\n",
    "    \n",
    "    if rkflist.size > 100:\n",
    "        sample_idx = np.random.choice(np.arange(rkflist.size), 100, replace=False)\n",
    "        rkflist = rkflist[sample_idx]\n",
    "    \n",
    "    for desc in tables:\n",
    "        tables[desc][key] = np.zeros(len(rkflist)*k, dtype=np.float32) - 1\n",
    "\n",
    "    for i in tqdm(range(rkflist.size), desc='Rank file ', total=rkflist.size):\n",
    "\n",
    "        rkfpath = rkflist[i]\n",
    "        rank = read_rank(rkfpath)\n",
    "        \n",
    "        clusters = clustering_1d('fixed', **dict(data=rank['score'][k:], c_num=64))\n",
    "        \n",
    "        q_idx, topk_idx = get_idx(get_name_in_coll(rkfpath,key), rank['name'][0:k], namelist['name'])\n",
    "        \n",
    "        rank = rank['score']\n",
    "        \n",
    "        for j in range(k):\n",
    "            \n",
    "            ts = time()\n",
    "            _ = rank_features_circ_deltaik(rank, j, k, norm=True)\n",
    "            te = time()\n",
    "            tables['delta'][key][i*k + j] = te - ts\n",
    "            \n",
    "            ts = time()\n",
    "            _ = rank_features_shiftDCT(rank, j, k, 2, norm=True)\n",
    "            te = time()\n",
    "            tables['sdct'][key][i*k + j] = te - ts\n",
    "            \n",
    "            ts = time()\n",
    "            _ = rank_features_cluster_diff(rank, j, k, 1, centers=clusters, norm=True)\n",
    "            te = time()\n",
    "            tables['cld'][key][i*k + j] = te - ts\n",
    "            \n",
    "            ts = time()\n",
    "            _ = rank_features_accum_jaccard(collmatches, q_idx, topk_idx[j], 20, norm=True)\n",
    "            te = time()\n",
    "            tables['accjacc'][key][i*k + j] = te - ts\n",
    "            \n",
    "            ts = time()\n",
    "            _ = rank_features_interval_cid_jaccard(collmatches, namelist['cid'], q_idx, topk_idx[j], 20, norm=True)\n",
    "            te = time()\n",
    "            tables['cidjacc'][key][i*k + j] = te - ts\n",
    "            "
   ]
  },
  {
   "cell_type": "code",
   "execution_count": 7,
   "metadata": {},
   "outputs": [],
   "source": [
    "drawargs = OrderedDict()\n",
    "drawargs['delta'] = (\"$Delta$\", dict(color=\"#1abc9c\", marker='^', markersize=9))\n",
    "drawargs['sdct'] = (\"$sDCT$\", dict(color=\"#9b59b6\", marker='D'))\n",
    "drawargs['cld'] = (\"$ClD$\", dict(color=\"#e74c3c\", marker='P', markersize=9))\n",
    "drawargs['accjacc'] = (\"$AccJacc$\", dict(color=\"#EE5A24\", marker='>', markersize=9))\n",
    "drawargs['cidjacc'] = (\"$cidJacc$\", dict(color=\"#009432\", marker='d', markersize=8))\n",
    "\n",
    "#print(tables['cld']['vggfaces_002'].mean())\n",
    "#print(tables['cld']['vggfaces_002'].std())"
   ]
  },
  {
   "cell_type": "code",
   "execution_count": 20,
   "metadata": {},
   "outputs": [
    {
     "name": "stdout",
     "output_type": "stream",
     "text": [
      "[0.85 1.85 2.85 3.85 4.85 5.85 6.85 7.85 8.85]\n",
      "[0.92 1.93 2.93 3.93 4.92 5.92 6.92 7.92 8.92]\n",
      "[1. 2. 3. 4. 5. 6. 7. 8. 9.]\n",
      "[1.07 2.08 3.08 4.08 5.08 6.08 7.08 8.07 9.07]\n",
      "[1.15 2.15 3.15 4.15 5.15 6.15 7.15 8.15 9.15]\n"
     ]
    },
    {
     "data": {
      "image/png": "[encoded data removed]",
      "text/plain": [
       "<Figure size 1008x432 with 1 Axes>"
      ]
     },
     "metadata": {},
     "output_type": "display_data"
    }
   ],
   "source": [
    "np.set_printoptions(precision=2, suppress=True)\n",
    "\n",
    "fig, axes = plt.subplots(1)\n",
    "try:\n",
    "    axes = axes.reshape(-1)\n",
    "except AttributeError:\n",
    "    axes = [axes]\n",
    "fig.set_size_inches((14, 6))\n",
    "\n",
    "top_lim = -1\n",
    "bot_lim = np.inf\n",
    "\n",
    "leg_handles = []\n",
    "leg_labels = []\n",
    "\n",
    "x = np.arange(0.85, len(key_order)+0.7, 1)\n",
    "xlab = [exp_aliases[k] for k in key_order]\n",
    "\n",
    "for desc in tables:\n",
    "    \n",
    "    print(x)\n",
    "    y = []\n",
    "    s = []\n",
    "\n",
    "    for m in tables[desc]:\n",
    "        y.append(tables[desc][m].mean())\n",
    "        s.append(tables[desc][m].std())\n",
    "\n",
    "    y = np.array(y)\n",
    "    s = np.array(s)\n",
    "\n",
    "    if (y + s).max() > top_lim:\n",
    "        top_lim = (y + s).max()*1.05\n",
    "    if (y - s).min() < bot_lim:\n",
    "        bot_lim = (y - s).min()*0.95\n",
    "\n",
    "    ebar = axes[0].errorbar(x, y, yerr=s, xerr=None, ecolor='black', linestyle='', alpha=1.0,\n",
    "                           **drawargs[desc][1])\n",
    "    \n",
    "    #ebar = axes[0].plot(x, y, alpha=1.0, linestyle='', **drawargs[desc][1])\n",
    "\n",
    "    leg_handles.append(ebar[0])\n",
    "    leg_labels.append(drawargs[desc][0])\n",
    "    \n",
    "    x += 0.075\n",
    "    \n",
    "\n",
    "axes[0].set_ylim(top=10**-2, bottom=10**-5)\n",
    "axes[0].set_xticks(np.arange(1, len(key_order)+1, 1))\n",
    "axes[0].set_xticklabels(xlab, ha=\"center\", **dict(fontsize='medium'))\n",
    "\n",
    "axes[0].set_ylabel('Time (log(s))', **dict(fontsize='x-large'))\n",
    "axes[0].set_xlabel('Setting', **dict(fontsize='x-large'))\n",
    "\n",
    "axes[0].set_title('Avg. Feature extraction time per setting', **dict(fontsize='xx-large'))\n",
    "\n",
    "plt.yscale('log', nonposy='clip')\n",
    "plt.grid(True, which=\"both\")\n",
    "fig.legend(leg_handles, leg_labels, fancybox=True, shadow=True, ncol=1, \n",
    "           fontsize='large', loc='center right', bbox_to_anchor=[1, 0.8])\n",
    "fig.tight_layout()\n",
    "plt.subplots_adjust(right=0.91)\n",
    "plt.savefig('/home/alberto/phD/projects/performance_prediction/ret-mr-learning/results/thesis/timing/features_timing.pdf', dpi=300)"
   ]
  }
 ],
 "metadata": {
  "kernelspec": {
   "display_name": "Python 3",
   "language": "python",
   "name": "python3"
  },
  "language_info": {
   "codemirror_mode": {
    "name": "ipython",
    "version": 3
   },
   "file_extension": ".py",
   "mimetype": "text/x-python",
   "name": "python",
   "nbconvert_exporter": "python",
   "pygments_lexer": "ipython3",
   "version": "3.6.7"
  }
 },
 "nbformat": 4,
 "nbformat_minor": 2
}
